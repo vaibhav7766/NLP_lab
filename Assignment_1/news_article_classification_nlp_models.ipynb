{
  "cells": [
    {
      "cell_type": "markdown",
      "metadata": {
        "id": "view-in-github",
        "colab_type": "text"
      },
      "source": [
        "<a href=\"https://colab.research.google.com/github/vaibhav7766/NLP_lab/blob/main/Assignment_1/news_article_classification_nlp_models.ipynb\" target=\"_parent\"><img src=\"https://colab.research.google.com/assets/colab-badge.svg\" alt=\"Open In Colab\"/></a>"
      ]
    },
    {
      "cell_type": "markdown",
      "metadata": {
        "id": "UDBc43bvJ-9R"
      },
      "source": [
        "<h1 style=\"text-align: center;\">News Article Classification Text Preprocessing and NLP models </h1>"
      ]
    },
    {
      "cell_type": "markdown",
      "metadata": {
        "id": "g0Ot9FjakfiP"
      },
      "source": [
        "Name: Vaibhav Sharma  \n",
        "Batch: 2022-26  \n",
        "Branch: AIML B2  \n",
        "PRN: 22070126125"
      ]
    },
    {
      "cell_type": "markdown",
      "metadata": {
        "id": "AHCam4J9kfiP"
      },
      "source": [
        "## DESCRIPTION OF THE DATASET\n",
        "\n",
        "The AG's news topic classification dataset is constructed by choosing 4 largest classes from the original corpus. Each class contains 30,000 training samples and 1,900 testing samples. The total number of training samples is 120,000 and testing 7,600.\n",
        "\n",
        "The file classes.txt contains a list of classes corresponding to each label.\n",
        "\n",
        "The files train.csv and test.csv contain all the training samples as comma-sparated values. There are 3 columns in them, corresponding to class index (1 to 4), title and description. The title and description are escaped using double quotes (\"), and any internal double quote is escaped by 2 double quotes (\"\"). New lines are escaped by a backslash followed with an \"n\" character, that is \"\\n\"."
      ]
    },
    {
      "cell_type": "markdown",
      "metadata": {
        "id": "WQLPvA9EJ-9T"
      },
      "source": [
        "# Classification of News Articles\n",
        "\n",
        "It is a notebook for classification of News articles which are having classes numbered 1 to 4,\n",
        "\n",
        "1 is \"World News\",\n",
        "\n",
        "2 is \"Sports News\",\n",
        "\n",
        "3 is \"Business News\" and\n",
        "\n",
        "4 is \"Science-Technology News\"."
      ]
    },
    {
      "cell_type": "markdown",
      "metadata": {
        "id": "5ZIm7XPPJ-9T"
      },
      "source": [
        "## Step 1: Import necessary libraries"
      ]
    },
    {
      "cell_type": "code",
      "execution_count": null,
      "metadata": {
        "_cell_guid": "b1076dfc-b9ad-4769-8c92-a6c4dae69d19",
        "_uuid": "8f2839f25d086af736a60e9eeb907d3b93b6e0e5",
        "execution": {
          "iopub.execute_input": "2024-01-22T12:58:27.589095Z",
          "iopub.status.busy": "2024-01-22T12:58:27.588774Z",
          "iopub.status.idle": "2024-01-22T12:58:28.437873Z",
          "shell.execute_reply": "2024-01-22T12:58:28.436932Z",
          "shell.execute_reply.started": "2024-01-22T12:58:27.589061Z"
        },
        "id": "COBpUNH9J-9U",
        "outputId": "a7607579-ce5c-4a66-b8f5-04abf6a5bf9b",
        "trusted": true
      },
      "outputs": [
        {
          "name": "stderr",
          "output_type": "stream",
          "text": [
            "[nltk_data] Downloading package wordnet to\n",
            "[nltk_data]     C:\\Users\\vaibh\\AppData\\Roaming\\nltk_data...\n",
            "[nltk_data]   Package wordnet is already up-to-date!\n"
          ]
        },
        {
          "data": {
            "text/plain": [
              "True"
            ]
          },
          "execution_count": 1,
          "metadata": {},
          "output_type": "execute_result"
        }
      ],
      "source": [
        "import numpy as np\n",
        "import pandas as pd\n",
        "import nltk\n",
        "import string as s\n",
        "from nltk.corpus import stopwords\n",
        "import seaborn as sns\n",
        "import re\n",
        "from sklearn.feature_extraction.text import CountVectorizer, TfidfVectorizer\n",
        "from sklearn.linear_model import LogisticRegression\n",
        "from sklearn.svm import SVC\n",
        "from sklearn.ensemble import RandomForestClassifier\n",
        "from sklearn.metrics import accuracy_score, classification_report, confusion_matrix\n",
        "nltk.download('wordnet')"
      ]
    },
    {
      "cell_type": "markdown",
      "metadata": {
        "id": "VQZltGP8J-9W"
      },
      "source": [
        "## Step 2: Load your dataset"
      ]
    },
    {
      "cell_type": "code",
      "execution_count": null,
      "metadata": {
        "execution": {
          "iopub.execute_input": "2024-01-22T12:58:28.439627Z",
          "iopub.status.busy": "2024-01-22T12:58:28.43939Z",
          "iopub.status.idle": "2024-01-22T12:58:28.674046Z",
          "shell.execute_reply": "2024-01-22T12:58:28.672937Z",
          "shell.execute_reply.started": "2024-01-22T12:58:28.4396Z"
        },
        "id": "TJNbmGlkJ-9X",
        "trusted": true
      },
      "outputs": [],
      "source": [
        "# Due to large amount of data , not able to run KNN so. ie limited resorces, more memory required\n",
        "# Specify the number of rows you want to read\n",
        "# num_rows_to_read = 60000  # Replace this with the desired number of rows\n",
        "\n",
        "# Read only the specified number of rows\n",
        "train = pd.read_csv('train.csv')\n",
        "test = pd.read_csv('test.csv')"
      ]
    },
    {
      "cell_type": "code",
      "execution_count": null,
      "metadata": {
        "execution": {
          "iopub.execute_input": "2024-01-22T12:58:28.675653Z",
          "iopub.status.busy": "2024-01-22T12:58:28.675405Z",
          "iopub.status.idle": "2024-01-22T12:58:28.693247Z",
          "shell.execute_reply": "2024-01-22T12:58:28.69253Z",
          "shell.execute_reply.started": "2024-01-22T12:58:28.675623Z"
        },
        "id": "nCX7DzHBJ-9X",
        "outputId": "bbd576e2-b1af-42c1-a9a1-6dca47df0642",
        "trusted": true
      },
      "outputs": [
        {
          "data": {
            "text/html": [
              "<div>\n",
              "<style scoped>\n",
              "    .dataframe tbody tr th:only-of-type {\n",
              "        vertical-align: middle;\n",
              "    }\n",
              "\n",
              "    .dataframe tbody tr th {\n",
              "        vertical-align: top;\n",
              "    }\n",
              "\n",
              "    .dataframe thead th {\n",
              "        text-align: right;\n",
              "    }\n",
              "</style>\n",
              "<table border=\"1\" class=\"dataframe\">\n",
              "  <thead>\n",
              "    <tr style=\"text-align: right;\">\n",
              "      <th></th>\n",
              "      <th>Class Index</th>\n",
              "      <th>Title</th>\n",
              "      <th>Description</th>\n",
              "    </tr>\n",
              "  </thead>\n",
              "  <tbody>\n",
              "    <tr>\n",
              "      <th>0</th>\n",
              "      <td>3</td>\n",
              "      <td>Wall St. Bears Claw Back Into the Black (Reuters)</td>\n",
              "      <td>Reuters - Short-sellers, Wall Street's dwindli...</td>\n",
              "    </tr>\n",
              "    <tr>\n",
              "      <th>1</th>\n",
              "      <td>3</td>\n",
              "      <td>Carlyle Looks Toward Commercial Aerospace (Reu...</td>\n",
              "      <td>Reuters - Private investment firm Carlyle Grou...</td>\n",
              "    </tr>\n",
              "    <tr>\n",
              "      <th>2</th>\n",
              "      <td>3</td>\n",
              "      <td>Oil and Economy Cloud Stocks' Outlook (Reuters)</td>\n",
              "      <td>Reuters - Soaring crude prices plus worries\\ab...</td>\n",
              "    </tr>\n",
              "    <tr>\n",
              "      <th>3</th>\n",
              "      <td>3</td>\n",
              "      <td>Iraq Halts Oil Exports from Main Southern Pipe...</td>\n",
              "      <td>Reuters - Authorities have halted oil export\\f...</td>\n",
              "    </tr>\n",
              "    <tr>\n",
              "      <th>4</th>\n",
              "      <td>3</td>\n",
              "      <td>Oil prices soar to all-time record, posing new...</td>\n",
              "      <td>AFP - Tearaway world oil prices, toppling reco...</td>\n",
              "    </tr>\n",
              "  </tbody>\n",
              "</table>\n",
              "</div>"
            ],
            "text/plain": [
              "   Class Index                                              Title  \\\n",
              "0            3  Wall St. Bears Claw Back Into the Black (Reuters)   \n",
              "1            3  Carlyle Looks Toward Commercial Aerospace (Reu...   \n",
              "2            3    Oil and Economy Cloud Stocks' Outlook (Reuters)   \n",
              "3            3  Iraq Halts Oil Exports from Main Southern Pipe...   \n",
              "4            3  Oil prices soar to all-time record, posing new...   \n",
              "\n",
              "                                         Description  \n",
              "0  Reuters - Short-sellers, Wall Street's dwindli...  \n",
              "1  Reuters - Private investment firm Carlyle Grou...  \n",
              "2  Reuters - Soaring crude prices plus worries\\ab...  \n",
              "3  Reuters - Authorities have halted oil export\\f...  \n",
              "4  AFP - Tearaway world oil prices, toppling reco...  "
            ]
          },
          "execution_count": 3,
          "metadata": {},
          "output_type": "execute_result"
        }
      ],
      "source": [
        "train.head()"
      ]
    },
    {
      "cell_type": "code",
      "execution_count": null,
      "metadata": {
        "execution": {
          "iopub.execute_input": "2024-01-22T12:58:28.694938Z",
          "iopub.status.busy": "2024-01-22T12:58:28.694712Z",
          "iopub.status.idle": "2024-01-22T12:58:28.704736Z",
          "shell.execute_reply": "2024-01-22T12:58:28.703897Z",
          "shell.execute_reply.started": "2024-01-22T12:58:28.694912Z"
        },
        "id": "xZiAsIUVJ-9Y",
        "outputId": "9016e8f5-76a9-4d19-81c9-862b41289515",
        "trusted": true
      },
      "outputs": [
        {
          "data": {
            "text/html": [
              "<div>\n",
              "<style scoped>\n",
              "    .dataframe tbody tr th:only-of-type {\n",
              "        vertical-align: middle;\n",
              "    }\n",
              "\n",
              "    .dataframe tbody tr th {\n",
              "        vertical-align: top;\n",
              "    }\n",
              "\n",
              "    .dataframe thead th {\n",
              "        text-align: right;\n",
              "    }\n",
              "</style>\n",
              "<table border=\"1\" class=\"dataframe\">\n",
              "  <thead>\n",
              "    <tr style=\"text-align: right;\">\n",
              "      <th></th>\n",
              "      <th>Class Index</th>\n",
              "      <th>Title</th>\n",
              "      <th>Description</th>\n",
              "    </tr>\n",
              "  </thead>\n",
              "  <tbody>\n",
              "    <tr>\n",
              "      <th>0</th>\n",
              "      <td>3</td>\n",
              "      <td>Fears for T N pension after talks</td>\n",
              "      <td>Unions representing workers at Turner   Newall...</td>\n",
              "    </tr>\n",
              "    <tr>\n",
              "      <th>1</th>\n",
              "      <td>4</td>\n",
              "      <td>The Race is On: Second Private Team Sets Launc...</td>\n",
              "      <td>SPACE.com - TORONTO, Canada -- A second\\team o...</td>\n",
              "    </tr>\n",
              "    <tr>\n",
              "      <th>2</th>\n",
              "      <td>4</td>\n",
              "      <td>Ky. Company Wins Grant to Study Peptides (AP)</td>\n",
              "      <td>AP - A company founded by a chemistry research...</td>\n",
              "    </tr>\n",
              "    <tr>\n",
              "      <th>3</th>\n",
              "      <td>4</td>\n",
              "      <td>Prediction Unit Helps Forecast Wildfires (AP)</td>\n",
              "      <td>AP - It's barely dawn when Mike Fitzpatrick st...</td>\n",
              "    </tr>\n",
              "    <tr>\n",
              "      <th>4</th>\n",
              "      <td>4</td>\n",
              "      <td>Calif. Aims to Limit Farm-Related Smog (AP)</td>\n",
              "      <td>AP - Southern California's smog-fighting agenc...</td>\n",
              "    </tr>\n",
              "  </tbody>\n",
              "</table>\n",
              "</div>"
            ],
            "text/plain": [
              "   Class Index                                              Title  \\\n",
              "0            3                  Fears for T N pension after talks   \n",
              "1            4  The Race is On: Second Private Team Sets Launc...   \n",
              "2            4      Ky. Company Wins Grant to Study Peptides (AP)   \n",
              "3            4      Prediction Unit Helps Forecast Wildfires (AP)   \n",
              "4            4        Calif. Aims to Limit Farm-Related Smog (AP)   \n",
              "\n",
              "                                         Description  \n",
              "0  Unions representing workers at Turner   Newall...  \n",
              "1  SPACE.com - TORONTO, Canada -- A second\\team o...  \n",
              "2  AP - A company founded by a chemistry research...  \n",
              "3  AP - It's barely dawn when Mike Fitzpatrick st...  \n",
              "4  AP - Southern California's smog-fighting agenc...  "
            ]
          },
          "execution_count": 4,
          "metadata": {},
          "output_type": "execute_result"
        }
      ],
      "source": [
        "test.head()"
      ]
    },
    {
      "cell_type": "code",
      "execution_count": null,
      "metadata": {
        "execution": {
          "iopub.execute_input": "2024-01-22T12:58:28.708452Z",
          "iopub.status.busy": "2024-01-22T12:58:28.708155Z",
          "iopub.status.idle": "2024-01-22T12:58:28.730824Z",
          "shell.execute_reply": "2024-01-22T12:58:28.730077Z",
          "shell.execute_reply.started": "2024-01-22T12:58:28.708416Z"
        },
        "id": "tZCdJ8vuJ-9Z",
        "outputId": "4df4cf46-2e33-4b64-e72c-d95f9deefac2",
        "trusted": true
      },
      "outputs": [
        {
          "name": "stdout",
          "output_type": "stream",
          "text": [
            "<class 'pandas.core.frame.DataFrame'>\n",
            "RangeIndex: 120000 entries, 0 to 119999\n",
            "Data columns (total 3 columns):\n",
            " #   Column       Non-Null Count   Dtype \n",
            "---  ------       --------------   ----- \n",
            " 0   Class Index  120000 non-null  int64 \n",
            " 1   Title        120000 non-null  object\n",
            " 2   Description  120000 non-null  object\n",
            "dtypes: int64(1), object(2)\n",
            "memory usage: 2.7+ MB\n"
          ]
        }
      ],
      "source": [
        "train.info()"
      ]
    },
    {
      "cell_type": "code",
      "execution_count": null,
      "metadata": {
        "execution": {
          "iopub.execute_input": "2024-01-22T12:58:28.733582Z",
          "iopub.status.busy": "2024-01-22T12:58:28.733351Z",
          "iopub.status.idle": "2024-01-22T12:58:28.738088Z",
          "shell.execute_reply": "2024-01-22T12:58:28.737224Z",
          "shell.execute_reply.started": "2024-01-22T12:58:28.733556Z"
        },
        "id": "TXXYpHZ8J-9Z",
        "outputId": "dad6f2b2-20ed-4b94-d6a3-fa64ba5d6b2d",
        "trusted": true
      },
      "outputs": [
        {
          "name": "stdout",
          "output_type": "stream",
          "text": [
            "(120000, 3)\n",
            "(7600, 3)\n"
          ]
        }
      ],
      "source": [
        "print(train.shape)\n",
        "print(test.shape)"
      ]
    },
    {
      "cell_type": "markdown",
      "metadata": {
        "id": "ZHjiS1ywJ-9a"
      },
      "source": [
        "### Spliting data into input and label"
      ]
    },
    {
      "cell_type": "code",
      "execution_count": null,
      "metadata": {
        "execution": {
          "iopub.execute_input": "2024-01-22T12:58:28.739706Z",
          "iopub.status.busy": "2024-01-22T12:58:28.739421Z",
          "iopub.status.idle": "2024-01-22T12:58:28.747446Z",
          "shell.execute_reply": "2024-01-22T12:58:28.746692Z",
          "shell.execute_reply.started": "2024-01-22T12:58:28.739672Z"
        },
        "id": "dgW_31hsJ-9a",
        "trusted": true
      },
      "outputs": [],
      "source": [
        "train_x = train.Description\n",
        "test_x = test.Description\n",
        "\n",
        "train_y =  train['Class Index']\n",
        "test_y = test['Class Index']"
      ]
    },
    {
      "cell_type": "markdown",
      "metadata": {
        "id": "Z2xLVQDqJ-9b"
      },
      "source": [
        "## Step 3: Preprocessing the dataset"
      ]
    },
    {
      "cell_type": "markdown",
      "metadata": {
        "id": "4sFDuaokJ-9b"
      },
      "source": [
        "### Removal of HTML Tag"
      ]
    },
    {
      "cell_type": "code",
      "execution_count": null,
      "metadata": {
        "execution": {
          "iopub.execute_input": "2024-01-22T12:58:28.749124Z",
          "iopub.status.busy": "2024-01-22T12:58:28.748824Z",
          "iopub.status.idle": "2024-01-22T12:58:28.756314Z",
          "shell.execute_reply": "2024-01-22T12:58:28.755654Z",
          "shell.execute_reply.started": "2024-01-22T12:58:28.749088Z"
        },
        "id": "r2USydS5J-9b",
        "trusted": true
      },
      "outputs": [],
      "source": [
        "def striphtml(data):\n",
        "    p = re.compile(r'<.*?>')\n",
        "    return p.sub('', data)"
      ]
    },
    {
      "cell_type": "code",
      "execution_count": null,
      "metadata": {
        "execution": {
          "iopub.execute_input": "2024-01-22T12:58:28.757874Z",
          "iopub.status.busy": "2024-01-22T12:58:28.757633Z",
          "iopub.status.idle": "2024-01-22T12:58:28.884377Z",
          "shell.execute_reply": "2024-01-22T12:58:28.883693Z",
          "shell.execute_reply.started": "2024-01-22T12:58:28.757848Z"
        },
        "id": "qUrDXLBmJ-9b",
        "trusted": true
      },
      "outputs": [],
      "source": [
        "train_x = train_x.apply(striphtml)\n",
        "test_x = test_x.apply(striphtml)"
      ]
    },
    {
      "cell_type": "markdown",
      "metadata": {
        "id": "ZFDY_ps9J-9c"
      },
      "source": [
        "### Removal of URL"
      ]
    },
    {
      "cell_type": "code",
      "execution_count": null,
      "metadata": {
        "execution": {
          "iopub.execute_input": "2024-01-22T12:58:28.88599Z",
          "iopub.status.busy": "2024-01-22T12:58:28.885683Z",
          "iopub.status.idle": "2024-01-22T12:58:28.890158Z",
          "shell.execute_reply": "2024-01-22T12:58:28.889408Z",
          "shell.execute_reply.started": "2024-01-22T12:58:28.885939Z"
        },
        "id": "BUg9TtaLJ-9c",
        "trusted": true
      },
      "outputs": [],
      "source": [
        "def remove_url(data):\n",
        "    return  re.sub(r'\\s*(?:https?://)?www\\.\\S*\\.[A-Za-z]{2,5}\\s*', ' ', data).strip()"
      ]
    },
    {
      "cell_type": "code",
      "execution_count": null,
      "metadata": {
        "execution": {
          "iopub.execute_input": "2024-01-22T12:58:28.891914Z",
          "iopub.status.busy": "2024-01-22T12:58:28.891689Z",
          "iopub.status.idle": "2024-01-22T12:58:31.640104Z",
          "shell.execute_reply": "2024-01-22T12:58:31.639412Z",
          "shell.execute_reply.started": "2024-01-22T12:58:28.891889Z"
        },
        "id": "V_FpYt_AJ-9c",
        "trusted": true
      },
      "outputs": [],
      "source": [
        "train_x = train_x.apply(remove_url)\n",
        "test_x = test_x.apply(remove_url)"
      ]
    },
    {
      "cell_type": "markdown",
      "metadata": {
        "id": "NZZHXWhJJ-9d"
      },
      "source": [
        "### Tokenization of Data"
      ]
    },
    {
      "cell_type": "code",
      "execution_count": null,
      "metadata": {
        "execution": {
          "iopub.execute_input": "2024-01-22T12:58:31.64163Z",
          "iopub.status.busy": "2024-01-22T12:58:31.641417Z",
          "iopub.status.idle": "2024-01-22T12:58:31.64528Z",
          "shell.execute_reply": "2024-01-22T12:58:31.644642Z",
          "shell.execute_reply.started": "2024-01-22T12:58:31.641605Z"
        },
        "id": "QJxF_vkuJ-9d",
        "trusted": true,
        "outputId": "e4476bf4-f057-4e93-c808-2aaf20649539"
      },
      "outputs": [
        {
          "name": "stderr",
          "output_type": "stream",
          "text": [
            "<>:4: SyntaxWarning: invalid escape sequence '\\w'\n",
            "<>:4: SyntaxWarning: invalid escape sequence '\\w'\n",
            "C:\\Users\\vaibh\\AppData\\Local\\Temp\\ipykernel_18984\\882723685.py:4: SyntaxWarning: invalid escape sequence '\\w'\n",
            "  tokens = re.findall(\"[\\w']+\", data)\n"
          ]
        }
      ],
      "source": [
        "def word_tok(data):\n",
        "    tokens = re.findall(\"[\\w']+\", data)\n",
        "    return tokens"
      ]
    },
    {
      "cell_type": "code",
      "execution_count": null,
      "metadata": {
        "execution": {
          "iopub.execute_input": "2024-01-22T12:58:31.64677Z",
          "iopub.status.busy": "2024-01-22T12:58:31.646542Z",
          "iopub.status.idle": "2024-01-22T12:58:32.783752Z",
          "shell.execute_reply": "2024-01-22T12:58:32.783148Z",
          "shell.execute_reply.started": "2024-01-22T12:58:31.646736Z"
        },
        "id": "4eKXf8-NJ-9d",
        "trusted": true
      },
      "outputs": [],
      "source": [
        "train_x = train_x.apply(word_tok)\n",
        "test_x =test_x.apply(word_tok)"
      ]
    },
    {
      "cell_type": "markdown",
      "metadata": {
        "id": "3l3Tm8EyJ-9d"
      },
      "source": [
        "### Removal of stopwords"
      ]
    },
    {
      "cell_type": "code",
      "execution_count": null,
      "metadata": {
        "execution": {
          "iopub.execute_input": "2024-01-22T12:58:32.785314Z",
          "iopub.status.busy": "2024-01-22T12:58:32.785099Z",
          "iopub.status.idle": "2024-01-22T12:58:32.789684Z",
          "shell.execute_reply": "2024-01-22T12:58:32.789059Z",
          "shell.execute_reply.started": "2024-01-22T12:58:32.785289Z"
        },
        "id": "z-emQfD7J-9d",
        "trusted": true
      },
      "outputs": [],
      "source": [
        "def remove_stopwords(data):\n",
        "    stopWords = stopwords.words('english')\n",
        "    new_list = []\n",
        "    for i in data:\n",
        "        if i.lower() not in stopWords:\n",
        "            new_list.append(i)\n",
        "    return new_list"
      ]
    },
    {
      "cell_type": "code",
      "execution_count": null,
      "metadata": {
        "execution": {
          "iopub.execute_input": "2024-01-22T12:58:32.79106Z",
          "iopub.status.busy": "2024-01-22T12:58:32.79085Z",
          "iopub.status.idle": "2024-01-22T12:58:47.898496Z",
          "shell.execute_reply": "2024-01-22T12:58:47.897877Z",
          "shell.execute_reply.started": "2024-01-22T12:58:32.791036Z"
        },
        "id": "tXnQHhUCJ-9e",
        "trusted": true
      },
      "outputs": [],
      "source": [
        "train_x = train_x.apply(remove_stopwords)\n",
        "test_x = test_x.apply(remove_stopwords)"
      ]
    },
    {
      "cell_type": "markdown",
      "metadata": {
        "id": "6DYp8hrsJ-9e"
      },
      "source": [
        "### Removal of Punctuation Symbols"
      ]
    },
    {
      "cell_type": "code",
      "execution_count": null,
      "metadata": {
        "execution": {
          "iopub.execute_input": "2024-01-22T12:58:47.900004Z",
          "iopub.status.busy": "2024-01-22T12:58:47.899695Z",
          "iopub.status.idle": "2024-01-22T12:58:47.904774Z",
          "shell.execute_reply": "2024-01-22T12:58:47.904015Z",
          "shell.execute_reply.started": "2024-01-22T12:58:47.899968Z"
        },
        "id": "LPV0msxnJ-9e",
        "trusted": true
      },
      "outputs": [],
      "source": [
        "def remove_punctuations(data):\n",
        "    new_list = []\n",
        "    for i in data:\n",
        "        for j in s.punctuation:\n",
        "            i = i.replace(j,'')\n",
        "        new_list.append(i)\n",
        "    return new_list"
      ]
    },
    {
      "cell_type": "code",
      "execution_count": null,
      "metadata": {
        "execution": {
          "iopub.execute_input": "2024-01-22T12:58:47.906401Z",
          "iopub.status.busy": "2024-01-22T12:58:47.906152Z",
          "iopub.status.idle": "2024-01-22T12:58:59.347507Z",
          "shell.execute_reply": "2024-01-22T12:58:59.346874Z",
          "shell.execute_reply.started": "2024-01-22T12:58:47.906363Z"
        },
        "id": "U_RcyqywJ-9f",
        "trusted": true
      },
      "outputs": [],
      "source": [
        "train_x = train_x.apply(remove_punctuations)\n",
        "test_x = test_x.apply(remove_punctuations)"
      ]
    },
    {
      "cell_type": "markdown",
      "metadata": {
        "id": "kUcyySR8J-9f"
      },
      "source": [
        "### Removal of numbers"
      ]
    },
    {
      "cell_type": "code",
      "execution_count": null,
      "metadata": {
        "execution": {
          "iopub.execute_input": "2024-01-22T12:58:59.348797Z",
          "iopub.status.busy": "2024-01-22T12:58:59.34857Z",
          "iopub.status.idle": "2024-01-22T12:58:59.354439Z",
          "shell.execute_reply": "2024-01-22T12:58:59.353695Z",
          "shell.execute_reply.started": "2024-01-22T12:58:59.34877Z"
        },
        "id": "IQmpoissJ-9f",
        "trusted": true
      },
      "outputs": [],
      "source": [
        "def remove_number(data):\n",
        "    no_digit_list = []\n",
        "    new_list = []\n",
        "\n",
        "    for i in data:\n",
        "        for j in s.digits:\n",
        "            i = i.replace(j,'')\n",
        "        no_digit_list.append(i)\n",
        "\n",
        "    for i in no_digit_list:\n",
        "        if i!='':\n",
        "            new_list.append(i)\n",
        "    return new_list"
      ]
    },
    {
      "cell_type": "code",
      "execution_count": null,
      "metadata": {
        "execution": {
          "iopub.execute_input": "2024-01-22T12:58:59.35589Z",
          "iopub.status.busy": "2024-01-22T12:58:59.355596Z",
          "iopub.status.idle": "2024-01-22T12:59:03.819707Z",
          "shell.execute_reply": "2024-01-22T12:59:03.819032Z",
          "shell.execute_reply.started": "2024-01-22T12:58:59.355858Z"
        },
        "id": "ZjD22i-VJ-9g",
        "trusted": true
      },
      "outputs": [],
      "source": [
        "train_x = train_x.apply(remove_number)\n",
        "test_x = test_x.apply(remove_number)"
      ]
    },
    {
      "cell_type": "markdown",
      "metadata": {
        "id": "fvW0fezkJ-9g"
      },
      "source": [
        "### Stemming of dataset"
      ]
    },
    {
      "cell_type": "code",
      "execution_count": null,
      "metadata": {
        "execution": {
          "iopub.execute_input": "2024-01-22T12:59:03.821366Z",
          "iopub.status.busy": "2024-01-22T12:59:03.821067Z",
          "iopub.status.idle": "2024-01-22T12:59:03.826494Z",
          "shell.execute_reply": "2024-01-22T12:59:03.825637Z",
          "shell.execute_reply.started": "2024-01-22T12:59:03.82133Z"
        },
        "id": "lcY4mhWsJ-9g",
        "trusted": true
      },
      "outputs": [],
      "source": [
        "import nltk\n",
        "\n",
        "def stemming(data):\n",
        "    porter_stemmer = nltk.PorterStemmer()\n",
        "    roots = [porter_stemmer.stem(i) for i in data]\n",
        "    return roots"
      ]
    },
    {
      "cell_type": "code",
      "execution_count": null,
      "metadata": {
        "execution": {
          "iopub.execute_input": "2024-01-22T12:59:03.828254Z",
          "iopub.status.busy": "2024-01-22T12:59:03.827924Z",
          "iopub.status.idle": "2024-01-22T12:59:53.397486Z",
          "shell.execute_reply": "2024-01-22T12:59:53.396785Z",
          "shell.execute_reply.started": "2024-01-22T12:59:03.828219Z"
        },
        "id": "auoLVN5MJ-9h",
        "trusted": true
      },
      "outputs": [],
      "source": [
        "train_x = train_x.apply(stemming)\n",
        "test_x = test_x.apply(stemming)"
      ]
    },
    {
      "cell_type": "markdown",
      "metadata": {
        "id": "Fd6YGO6CJ-9h"
      },
      "source": [
        "### Lemmatization of data\n"
      ]
    },
    {
      "cell_type": "code",
      "execution_count": null,
      "metadata": {
        "execution": {
          "iopub.execute_input": "2024-01-22T12:59:53.398965Z",
          "iopub.status.busy": "2024-01-22T12:59:53.398736Z",
          "iopub.status.idle": "2024-01-22T12:59:53.403691Z",
          "shell.execute_reply": "2024-01-22T12:59:53.402744Z",
          "shell.execute_reply.started": "2024-01-22T12:59:53.398929Z"
        },
        "id": "5IK30kisJ-9o",
        "trusted": true
      },
      "outputs": [],
      "source": [
        "def lemmatization(data):\n",
        "    lemmatizer = nltk.stem.WordNetLemmatizer()\n",
        "    roots = [lemmatizer.lemmatize(i) for i in data]\n",
        "    return roots"
      ]
    },
    {
      "cell_type": "code",
      "execution_count": null,
      "metadata": {
        "execution": {
          "iopub.execute_input": "2024-01-22T12:59:53.405181Z",
          "iopub.status.busy": "2024-01-22T12:59:53.404927Z",
          "iopub.status.idle": "2024-01-22T13:00:05.022014Z",
          "shell.execute_reply": "2024-01-22T13:00:05.021038Z",
          "shell.execute_reply.started": "2024-01-22T12:59:53.405155Z"
        },
        "id": "_4YIHIv_J-9o",
        "trusted": true
      },
      "outputs": [],
      "source": [
        "train_x = train_x.apply(lemmatization)\n",
        "test_x = test_x.apply(lemmatization)"
      ]
    },
    {
      "cell_type": "markdown",
      "metadata": {
        "id": "uv9WtCfjJ-9p"
      },
      "source": [
        "### Remove extra words"
      ]
    },
    {
      "cell_type": "code",
      "execution_count": null,
      "metadata": {
        "execution": {
          "iopub.execute_input": "2024-01-22T13:00:05.023764Z",
          "iopub.status.busy": "2024-01-22T13:00:05.023491Z",
          "iopub.status.idle": "2024-01-22T13:00:05.029448Z",
          "shell.execute_reply": "2024-01-22T13:00:05.028458Z",
          "shell.execute_reply.started": "2024-01-22T13:00:05.023733Z"
        },
        "id": "2X_lDsBbJ-9p",
        "trusted": true
      },
      "outputs": [],
      "source": [
        "def remove_extraWords(data):\n",
        "    extra_words =['href','iii','lt','gt','ii','com','quot']\n",
        "\n",
        "    new_list = []\n",
        "    for i in data:\n",
        "        if i not in extra_words:\n",
        "            new_list.append(i)\n",
        "    return new_list"
      ]
    },
    {
      "cell_type": "code",
      "execution_count": null,
      "metadata": {
        "execution": {
          "iopub.execute_input": "2024-01-22T13:00:05.031377Z",
          "iopub.status.busy": "2024-01-22T13:00:05.031058Z",
          "iopub.status.idle": "2024-01-22T13:00:05.749975Z",
          "shell.execute_reply": "2024-01-22T13:00:05.749051Z",
          "shell.execute_reply.started": "2024-01-22T13:00:05.031338Z"
        },
        "id": "dOXcKh8fJ-9p",
        "trusted": true
      },
      "outputs": [],
      "source": [
        "train_x = train_x.apply(remove_extraWords)\n",
        "test_x = test_x.apply(remove_extraWords)"
      ]
    },
    {
      "cell_type": "code",
      "execution_count": null,
      "metadata": {
        "execution": {
          "iopub.execute_input": "2024-01-22T13:00:05.751839Z",
          "iopub.status.busy": "2024-01-22T13:00:05.751496Z",
          "iopub.status.idle": "2024-01-22T13:00:06.119834Z",
          "shell.execute_reply": "2024-01-22T13:00:06.119189Z",
          "shell.execute_reply.started": "2024-01-22T13:00:05.751805Z"
        },
        "id": "vuTewr0XJ-9p",
        "trusted": true
      },
      "outputs": [],
      "source": [
        "train_x = [\" \".join(map(str, lst)) for lst in train_x]\n",
        "test_x = [\" \".join(map(str, lst)) for lst in test_x]"
      ]
    },
    {
      "cell_type": "markdown",
      "metadata": {
        "id": "bHMYumfAJ-9q"
      },
      "source": [
        "## Step 4: Feature Extraction"
      ]
    },
    {
      "cell_type": "code",
      "execution_count": null,
      "metadata": {
        "id": "ggJmPgKYkfil"
      },
      "outputs": [],
      "source": [
        "# Vectorization with CountVectorizer\n",
        "count_vect = CountVectorizer(min_df=8, ngram_range=(1, 3))\n",
        "train_count = count_vect.fit_transform(train_x)\n",
        "test_count = count_vect.transform(test_x)"
      ]
    },
    {
      "cell_type": "code",
      "execution_count": null,
      "metadata": {
        "id": "ToQJDko_kfim"
      },
      "outputs": [],
      "source": [
        "# Vectorization with TfidfVectorizer\n",
        "tfidf_vect = TfidfVectorizer(min_df=8, ngram_range=(1, 3))\n",
        "train_tfidf = tfidf_vect.fit_transform(train_x)\n",
        "test_tfidf = tfidf_vect.transform(test_x)"
      ]
    },
    {
      "cell_type": "markdown",
      "metadata": {
        "id": "-DMHSmX_J-9x"
      },
      "source": [
        "## Step 5: Train and Evaluate the models"
      ]
    },
    {
      "cell_type": "code",
      "execution_count": null,
      "metadata": {
        "id": "_AmMVuSPkfim"
      },
      "outputs": [],
      "source": [
        "# Function to train and evaluate models\n",
        "def train_and_evaluate_model(model, train_data, test_data, model_name):\n",
        "    model.fit(train_data, train_y)\n",
        "    predictions = model.predict(test_data)\n",
        "    accuracy = accuracy_score(test_y, predictions)\n",
        "    print(f\"{model_name} Accuracy: {accuracy}\")\n",
        "    print(\"Classification Report:\")\n",
        "    print(classification_report(test_y, predictions))\n",
        "    print(\"Confusion Matrix:\")\n",
        "    print(confusion_matrix(test_y, predictions))\n",
        "    sns.heatmap(confusion_matrix(test_y, predictions), cmap=\"Blues\", annot=True)"
      ]
    },
    {
      "cell_type": "code",
      "execution_count": null,
      "metadata": {
        "id": "BJCTSV5Pkfim",
        "outputId": "c2fadf3f-5f9e-4c7f-f9f9-96e027e683ae"
      },
      "outputs": [
        {
          "name": "stdout",
          "output_type": "stream",
          "text": [
            "Logistic Regression with CountVectorizer\n",
            "Logistic Regression with CountVectorizer Accuracy: 0.9035526315789474\n",
            "Classification Report:\n",
            "              precision    recall  f1-score   support\n",
            "\n",
            "           1       0.92      0.90      0.91      1900\n",
            "           2       0.95      0.96      0.96      1900\n",
            "           3       0.87      0.86      0.87      1900\n",
            "           4       0.87      0.89      0.88      1900\n",
            "\n",
            "    accuracy                           0.90      7600\n",
            "   macro avg       0.90      0.90      0.90      7600\n",
            "weighted avg       0.90      0.90      0.90      7600\n",
            "\n",
            "Confusion Matrix:\n",
            "[[1715   59   74   52]\n",
            " [  34 1833   17   16]\n",
            " [  72   22 1632  174]\n",
            " [  53   16  144 1687]]\n"
          ]
        },
        {
          "data": {
            "image/png": "[encoded data removed]",
            "text/plain": [
              "<Figure size 640x480 with 2 Axes>"
            ]
          },
          "metadata": {},
          "output_type": "display_data"
        }
      ],
      "source": [
        "# Logistic Regression\n",
        "lr = LogisticRegression(max_iter=200)\n",
        "print(\"Logistic Regression with CountVectorizer\")\n",
        "train_and_evaluate_model(\n",
        "    lr, train_count, test_count, \"Logistic Regression with CountVectorizer\"\n",
        ")"
      ]
    },
    {
      "cell_type": "code",
      "execution_count": null,
      "metadata": {
        "id": "Yh_qwZG-kfim",
        "outputId": "6f4b33c6-17d9-496a-ba31-48e97fbc95fb"
      },
      "outputs": [
        {
          "name": "stdout",
          "output_type": "stream",
          "text": [
            "\n",
            "Logistic Regression with TfidfVectorizer\n",
            "Logistic Regression with TfidfVectorizer Accuracy: 0.9090789473684211\n",
            "Classification Report:\n",
            "              precision    recall  f1-score   support\n",
            "\n",
            "           1       0.93      0.90      0.91      1900\n",
            "           2       0.94      0.97      0.96      1900\n",
            "           3       0.88      0.88      0.88      1900\n",
            "           4       0.89      0.89      0.89      1900\n",
            "\n",
            "    accuracy                           0.91      7600\n",
            "   macro avg       0.91      0.91      0.91      7600\n",
            "weighted avg       0.91      0.91      0.91      7600\n",
            "\n",
            "Confusion Matrix:\n",
            "[[1709   65   78   48]\n",
            " [  21 1850   15   14]\n",
            " [  57   23 1666  154]\n",
            " [  55   22  139 1684]]\n"
          ]
        },
        {
          "data": {
            "image/png": "[encoded data removed]",
            "text/plain": [
              "<Figure size 640x480 with 2 Axes>"
            ]
          },
          "metadata": {},
          "output_type": "display_data"
        }
      ],
      "source": [
        "print(\"Logistic Regression with TfidfVectorizer\")\n",
        "train_and_evaluate_model(\n",
        "    lr, train_tfidf, test_tfidf, \"Logistic Regression with TfidfVectorizer\"\n",
        ")"
      ]
    },
    {
      "cell_type": "markdown",
      "metadata": {
        "id": "VLAnAfRQkfim"
      },
      "source": [
        "# Support Vector Classifier (SVC)"
      ]
    },
    {
      "cell_type": "code",
      "execution_count": null,
      "metadata": {
        "id": "2TgleY8xkfin",
        "outputId": "424a2c6a-15df-4c5b-c9f6-132ddb976912"
      },
      "outputs": [
        {
          "name": "stdout",
          "output_type": "stream",
          "text": [
            "\n",
            "SVC with CountVectorizer\n",
            "SVC with CountVectorizer Accuracy: 0.9096052631578947\n",
            "Classification Report:\n",
            "              precision    recall  f1-score   support\n",
            "\n",
            "           1       0.93      0.90      0.91      1900\n",
            "           2       0.95      0.97      0.96      1900\n",
            "           3       0.88      0.87      0.88      1900\n",
            "           4       0.88      0.89      0.89      1900\n",
            "\n",
            "    accuracy                           0.91      7600\n",
            "   macro avg       0.91      0.91      0.91      7600\n",
            "weighted avg       0.91      0.91      0.91      7600\n",
            "\n",
            "Confusion Matrix:\n",
            "[[1706   60   78   56]\n",
            " [  22 1852   12   14]\n",
            " [  58   19 1659  164]\n",
            " [  56   19  129 1696]]\n"
          ]
        },
        {
          "data": {
            "image/png": "[encoded data removed]",
            "text/plain": [
              "<Figure size 640x480 with 2 Axes>"
            ]
          },
          "metadata": {},
          "output_type": "display_data"
        }
      ],
      "source": [
        "svc = SVC()\n",
        "print(\"SVC with CountVectorizer\")\n",
        "train_and_evaluate_model(svc, train_count, test_count, \"SVC with CountVectorizer\")"
      ]
    },
    {
      "cell_type": "code",
      "execution_count": null,
      "metadata": {
        "id": "pW2MBJ-3kfin",
        "outputId": "e9baf191-3ec8-40d5-b7b9-b2187ee6eb5f"
      },
      "outputs": [
        {
          "name": "stdout",
          "output_type": "stream",
          "text": [
            "\n",
            "SVC with TfidfVectorizer\n",
            "SVC with TfidfVectorizer Accuracy: 0.9132894736842105\n",
            "Classification Report:\n",
            "              precision    recall  f1-score   support\n",
            "\n",
            "           1       0.93      0.90      0.92      1900\n",
            "           2       0.95      0.98      0.96      1900\n",
            "           3       0.89      0.88      0.88      1900\n",
            "           4       0.88      0.90      0.89      1900\n",
            "\n",
            "    accuracy                           0.91      7600\n",
            "   macro avg       0.91      0.91      0.91      7600\n",
            "weighted avg       0.91      0.91      0.91      7600\n",
            "\n",
            "Confusion Matrix:\n",
            "[[1708   61   79   52]\n",
            " [  17 1860   10   13]\n",
            " [  52   16 1667  165]\n",
            " [  53   18  123 1706]]\n"
          ]
        },
        {
          "data": {
            "image/png": "[encoded data removed]",
            "text/plain": [
              "<Figure size 640x480 with 2 Axes>"
            ]
          },
          "metadata": {},
          "output_type": "display_data"
        }
      ],
      "source": [
        "print(\"SVC with TfidfVectorizer\")\n",
        "train_and_evaluate_model(svc, train_tfidf, test_tfidf, \"SVC with TfidfVectorizer\")"
      ]
    },
    {
      "cell_type": "markdown",
      "metadata": {
        "id": "0ffFSOZ2kfin"
      },
      "source": [
        "# Random Forest"
      ]
    },
    {
      "cell_type": "code",
      "execution_count": null,
      "metadata": {
        "id": "VrjTkpJUkfin",
        "outputId": "a4c63f4f-6bc3-4eff-8120-54c5d03ed93b"
      },
      "outputs": [
        {
          "name": "stdout",
          "output_type": "stream",
          "text": [
            "Random Forest with CountVectorizer\n",
            "Random Forest with CountVectorizer Accuracy: 0.8914473684210527\n",
            "Classification Report:\n",
            "              precision    recall  f1-score   support\n",
            "\n",
            "           1       0.91      0.89      0.90      1900\n",
            "           2       0.93      0.97      0.95      1900\n",
            "           3       0.87      0.84      0.85      1900\n",
            "           4       0.86      0.86      0.86      1900\n",
            "\n",
            "    accuracy                           0.89      7600\n",
            "   macro avg       0.89      0.89      0.89      7600\n",
            "weighted avg       0.89      0.89      0.89      7600\n",
            "\n",
            "Confusion Matrix:\n",
            "[[1694   66   81   59]\n",
            " [  22 1846   14   18]\n",
            " [  71   36 1593  200]\n",
            " [  77   38  143 1642]]\n"
          ]
        },
        {
          "data": {
            "image/png": "[encoded data removed]",
            "text/plain": [
              "<Figure size 640x480 with 2 Axes>"
            ]
          },
          "metadata": {},
          "output_type": "display_data"
        }
      ],
      "source": [
        "rf = RandomForestClassifier(n_estimators=100, random_state=42)\n",
        "print(\"Random Forest with CountVectorizer\")\n",
        "train_and_evaluate_model(\n",
        "    rf, train_count, test_count, \"Random Forest with CountVectorizer\"\n",
        ")"
      ]
    },
    {
      "cell_type": "code",
      "execution_count": null,
      "metadata": {
        "id": "qgbUQfsvkfin",
        "outputId": "aca8ab0b-a60b-4c3a-e943-55a677a784bb"
      },
      "outputs": [
        {
          "name": "stdout",
          "output_type": "stream",
          "text": [
            "\n",
            "Random Forest with TfidfVectorizer\n",
            "Random Forest with TfidfVectorizer Accuracy: 0.8863157894736842\n",
            "Classification Report:\n",
            "              precision    recall  f1-score   support\n",
            "\n",
            "           1       0.90      0.89      0.90      1900\n",
            "           2       0.92      0.97      0.94      1900\n",
            "           3       0.86      0.83      0.84      1900\n",
            "           4       0.86      0.86      0.86      1900\n",
            "\n",
            "    accuracy                           0.89      7600\n",
            "   macro avg       0.89      0.89      0.89      7600\n",
            "weighted avg       0.89      0.89      0.89      7600\n",
            "\n",
            "Confusion Matrix:\n",
            "[[1686   74   89   51]\n",
            " [  24 1840   18   18]\n",
            " [  79   42 1581  198]\n",
            " [  74   40  157 1629]]\n"
          ]
        },
        {
          "data": {
            "image/png": "[encoded data removed]",
            "text/plain": [
              "<Figure size 640x480 with 2 Axes>"
            ]
          },
          "metadata": {},
          "output_type": "display_data"
        }
      ],
      "source": [
        "print(\"\\nRandom Forest with TfidfVectorizer\")\n",
        "train_and_evaluate_model(\n",
        "    rf, train_tfidf, test_tfidf, \"Random Forest with TfidfVectorizer\"\n",
        ")"
      ]
    },
    {
      "cell_type": "code",
      "source": [
        "!jupyter nbconvert --to pdf \"/content/NLP Assignment 1 - News Article Classification.ipynb\""
      ],
      "metadata": {
        "colab": {
          "base_uri": "https://localhost:8080/"
        },
        "id": "wnCansWLlQ4R",
        "outputId": "d26d6a2b-bc3f-42cc-e3a3-c91a190edc87"
      },
      "execution_count": 7,
      "outputs": [
        {
          "output_type": "stream",
          "name": "stdout",
          "text": [
            "[NbConvertApp] Converting notebook /content/NLP Assignment 1 - News Article Classification.ipynb to pdf\n",
            "[NbConvertApp] Support files will be in NLP Assignment 1 - News Article Classification_files/\n",
            "[NbConvertApp] Making directory ./NLP Assignment 1 - News Article Classification_files\n",
            "[NbConvertApp] Making directory ./NLP Assignment 1 - News Article Classification_files\n",
            "[NbConvertApp] Making directory ./NLP Assignment 1 - News Article Classification_files\n",
            "[NbConvertApp] Making directory ./NLP Assignment 1 - News Article Classification_files\n",
            "[NbConvertApp] Making directory ./NLP Assignment 1 - News Article Classification_files\n",
            "[NbConvertApp] Making directory ./NLP Assignment 1 - News Article Classification_files\n",
            "[NbConvertApp] Writing 56056 bytes to notebook.tex\n",
            "[NbConvertApp] Building PDF\n",
            "[NbConvertApp] Running xelatex 3 times: ['xelatex', 'notebook.tex', '-quiet']\n",
            "[NbConvertApp] Running bibtex 1 time: ['bibtex', 'notebook']\n",
            "[NbConvertApp] WARNING | bibtex had problems, most likely because there were no citations\n",
            "[NbConvertApp] PDF successfully created\n",
            "[NbConvertApp] Writing 186101 bytes to /content/NLP Assignment 1 - News Article Classification.pdf\n"
          ]
        }
      ]
    },
    {
      "cell_type": "code",
      "source": [],
      "metadata": {
        "id": "UHnl3mD0nHbc"
      },
      "execution_count": null,
      "outputs": []
    }
  ],
  "metadata": {
    "colab": {
      "provenance": [],
      "include_colab_link": true
    },
    "kaggle": {
      "accelerator": "gpu",
      "dataSources": [
        {
          "datasetId": 612351,
          "sourceId": 1095715,
          "sourceType": "datasetVersion"
        }
      ],
      "dockerImageVersionId": 29869,
      "isGpuEnabled": true,
      "isInternetEnabled": false,
      "language": "python",
      "sourceType": "notebook"
    },
    "kernelspec": {
      "display_name": "Python 3",
      "language": "python",
      "name": "python3"
    },
    "language_info": {
      "codemirror_mode": {
        "name": "ipython",
        "version": 3
      },
      "file_extension": ".py",
      "mimetype": "text/x-python",
      "name": "python",
      "nbconvert_exporter": "python",
      "pygments_lexer": "ipython3",
      "version": "3.12.2"
    }
  },
  "nbformat": 4,
  "nbformat_minor": 0
}