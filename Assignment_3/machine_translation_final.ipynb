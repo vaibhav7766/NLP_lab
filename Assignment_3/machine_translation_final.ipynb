{
  "cells": [
    {
      "cell_type": "markdown",
      "metadata": {
        "id": "view-in-github",
        "colab_type": "text"
      },
      "source": [
        "<a href=\"https://colab.research.google.com/github/vaibhav7766/NLP_lab/blob/main/Assignment_3/machine_translation_final.ipynb\" target=\"_parent\"><img src=\"https://colab.research.google.com/assets/colab-badge.svg\" alt=\"Open In Colab\"/></a>"
      ]
    },
    {
      "cell_type": "markdown",
      "metadata": {
        "id": "aRTr0t-2YDzN"
      },
      "source": [
        "<h1 align=\"center\">News Article Classification Text Preprocessing and NLP models </h1>"
      ]
    },
    {
      "cell_type": "markdown",
      "metadata": {
        "id": "Xeoa_oMGYDzS"
      },
      "source": [
        "<h3>Vaibhav Sharma<br>\n",
        "<h3>2022-26<br>\n",
        "<h3>AIML B2<br>\n",
        "<h3>22070126125</h3>\n",
        "<a href=\"https://github.com/vaibhav7766/NLP_lab\">GitHub Link </a>"
      ]
    },
    {
      "cell_type": "code",
      "execution_count": null,
      "metadata": {
        "execution": {
          "iopub.execute_input": "2024-10-02T05:55:31.117719Z",
          "iopub.status.busy": "2024-10-02T05:55:31.117314Z",
          "iopub.status.idle": "2024-10-02T05:55:42.594011Z",
          "shell.execute_reply": "2024-10-02T05:55:42.592926Z",
          "shell.execute_reply.started": "2024-10-02T05:55:31.117680Z"
        },
        "trusted": true,
        "id": "zFMUeTS4YDzT",
        "outputId": "69f2bf5d-d957-4e25-d65a-27d2eded6525"
      },
      "outputs": [
        {
          "name": "stderr",
          "output_type": "stream",
          "text": [
            "[nltk_data] Downloading package punkt to /root/nltk_data...\n",
            "[nltk_data]   Package punkt is already up-to-date!\n",
            "[nltk_data] Downloading package punkt_tab to /root/nltk_data...\n",
            "[nltk_data]   Package punkt_tab is already up-to-date!\n"
          ]
        }
      ],
      "source": [
        "import pandas as pd\n",
        "import torch\n",
        "import torch.nn as nn\n",
        "from torch.utils.data import Dataset, DataLoader\n",
        "from sklearn.model_selection import train_test_split\n",
        "from tqdm import tqdm\n",
        "from nltk.tokenize import word_tokenize\n",
        "from nltk.translate.bleu_score import corpus_bleu, SmoothingFunction\n",
        "import nltk\n",
        "\n",
        "nltk.download(\"punkt\")\n",
        "nltk.download(\"punkt_tab\")\n",
        "import pickle as pk"
      ]
    },
    {
      "cell_type": "markdown",
      "metadata": {
        "id": "WeqEsFULYDzX"
      },
      "source": [
        "<h1> Using CUDA </h1>"
      ]
    },
    {
      "cell_type": "code",
      "execution_count": null,
      "metadata": {
        "execution": {
          "iopub.execute_input": "2024-10-02T05:55:42.597271Z",
          "iopub.status.busy": "2024-10-02T05:55:42.596527Z",
          "iopub.status.idle": "2024-10-02T05:55:42.602588Z",
          "shell.execute_reply": "2024-10-02T05:55:42.601582Z",
          "shell.execute_reply.started": "2024-10-02T05:55:42.597222Z"
        },
        "trusted": true,
        "id": "NEwbckxnYDzY",
        "outputId": "5c53d9f6-c772-4a60-b872-13beb7dd2c60"
      },
      "outputs": [
        {
          "name": "stdout",
          "output_type": "stream",
          "text": [
            "Using device: cuda\n"
          ]
        }
      ],
      "source": [
        "device = torch.device(\"cuda\" if torch.cuda.is_available() else \"cpu\")\n",
        "print(f\"Using device: {device}\")"
      ]
    },
    {
      "cell_type": "markdown",
      "metadata": {
        "id": "cMhnhb45YDzY"
      },
      "source": [
        "# Load and preprocess data"
      ]
    },
    {
      "cell_type": "code",
      "execution_count": null,
      "metadata": {
        "execution": {
          "iopub.execute_input": "2024-10-02T05:55:42.604104Z",
          "iopub.status.busy": "2024-10-02T05:55:42.603792Z",
          "iopub.status.idle": "2024-10-02T05:55:43.464751Z",
          "shell.execute_reply": "2024-10-02T05:55:43.463969Z",
          "shell.execute_reply.started": "2024-10-02T05:55:42.604071Z"
        },
        "trusted": true,
        "id": "hU7sdGPFYDzZ"
      },
      "outputs": [],
      "source": [
        "df = pd.read_csv(r\"Hindi_English_Truncated_Corpus.csv\")\n",
        "df.dropna(inplace=True)\n",
        "df = df.sample(frac=1, random_state=42)  # Shuffle the data\n",
        "src_lang = df[\"english_sentence\"].astype(str).tolist()\n",
        "tgt_lang = df[\"hindi_sentence\"].astype(str).tolist()"
      ]
    },
    {
      "cell_type": "code",
      "execution_count": null,
      "metadata": {
        "execution": {
          "iopub.execute_input": "2024-10-02T05:55:43.468634Z",
          "iopub.status.busy": "2024-10-02T05:55:43.468060Z",
          "iopub.status.idle": "2024-10-02T05:55:43.473480Z",
          "shell.execute_reply": "2024-10-02T05:55:43.472519Z",
          "shell.execute_reply.started": "2024-10-02T05:55:43.468598Z"
        },
        "trusted": true,
        "id": "rrQYTZg3YDzb"
      },
      "outputs": [],
      "source": [
        "def create_vocab(sentences):\n",
        "    vocab = set()\n",
        "    for sentence in sentences:\n",
        "        vocab.update(str(sentence).split())\n",
        "    return vocab"
      ]
    },
    {
      "cell_type": "code",
      "execution_count": null,
      "metadata": {
        "execution": {
          "iopub.execute_input": "2024-10-02T05:55:43.474844Z",
          "iopub.status.busy": "2024-10-02T05:55:43.474555Z",
          "iopub.status.idle": "2024-10-02T05:55:44.249077Z",
          "shell.execute_reply": "2024-10-02T05:55:44.248280Z",
          "shell.execute_reply.started": "2024-10-02T05:55:43.474813Z"
        },
        "trusted": true,
        "id": "UG6fFdY-YDzc"
      },
      "outputs": [],
      "source": [
        "src_vocab = create_vocab(src_lang)\n",
        "tgt_vocab = create_vocab(tgt_lang)\n",
        "src_vocab_size = len(src_vocab) + 1\n",
        "tgt_vocab_size = len(tgt_vocab) + 1"
      ]
    },
    {
      "cell_type": "markdown",
      "metadata": {
        "id": "HdQYsuIWYDzd"
      },
      "source": [
        "# Create word to index mappings"
      ]
    },
    {
      "cell_type": "code",
      "execution_count": null,
      "metadata": {
        "execution": {
          "iopub.execute_input": "2024-10-02T05:55:44.250561Z",
          "iopub.status.busy": "2024-10-02T05:55:44.250260Z",
          "iopub.status.idle": "2024-10-02T05:55:44.392867Z",
          "shell.execute_reply": "2024-10-02T05:55:44.391876Z",
          "shell.execute_reply.started": "2024-10-02T05:55:44.250529Z"
        },
        "trusted": true,
        "id": "AbBYsIMRYDze"
      },
      "outputs": [],
      "source": [
        "src_word2idx = {word: idx + 1 for idx, word in enumerate(src_vocab)}\n",
        "tgt_word2idx = {word: idx + 1 for idx, word in enumerate(tgt_vocab)}\n",
        "src_word2idx[\"<PAD>\"] = 0\n",
        "tgt_word2idx[\"<PAD>\"] = 0\n",
        "\n",
        "src_idx2word = {idx: word for word, idx in src_word2idx.items()}\n",
        "tgt_idx2word = {idx: word for word, idx in tgt_word2idx.items()}"
      ]
    },
    {
      "cell_type": "markdown",
      "metadata": {
        "id": "OYjwRduUYDze"
      },
      "source": [
        "# Convert sentences to indices"
      ]
    },
    {
      "cell_type": "code",
      "execution_count": null,
      "metadata": {
        "execution": {
          "iopub.execute_input": "2024-10-02T05:55:44.394377Z",
          "iopub.status.busy": "2024-10-02T05:55:44.394084Z",
          "iopub.status.idle": "2024-10-02T05:55:44.399212Z",
          "shell.execute_reply": "2024-10-02T05:55:44.398188Z",
          "shell.execute_reply.started": "2024-10-02T05:55:44.394346Z"
        },
        "trusted": true,
        "id": "cnWkHeu5YDze"
      },
      "outputs": [],
      "source": [
        "def sentence_to_indices(sentence, word2idx):\n",
        "    return [word2idx.get(word, 0) for word in str(sentence).split()]"
      ]
    },
    {
      "cell_type": "code",
      "execution_count": null,
      "metadata": {
        "execution": {
          "iopub.execute_input": "2024-10-02T05:55:44.401272Z",
          "iopub.status.busy": "2024-10-02T05:55:44.400594Z",
          "iopub.status.idle": "2024-10-02T05:55:46.960464Z",
          "shell.execute_reply": "2024-10-02T05:55:46.959468Z",
          "shell.execute_reply.started": "2024-10-02T05:55:44.401225Z"
        },
        "trusted": true,
        "id": "d73rlZOYYDzf"
      },
      "outputs": [],
      "source": [
        "src_indices = [sentence_to_indices(sentence, src_word2idx) for sentence in src_lang]\n",
        "tgt_indices = [sentence_to_indices(sentence, tgt_word2idx) for sentence in tgt_lang]"
      ]
    },
    {
      "cell_type": "markdown",
      "metadata": {
        "id": "iecgNzY_YDzf"
      },
      "source": [
        "# Pad sequences"
      ]
    },
    {
      "cell_type": "code",
      "execution_count": null,
      "metadata": {
        "execution": {
          "iopub.execute_input": "2024-10-02T05:55:46.962074Z",
          "iopub.status.busy": "2024-10-02T05:55:46.961731Z",
          "iopub.status.idle": "2024-10-02T05:55:50.374984Z",
          "shell.execute_reply": "2024-10-02T05:55:50.374151Z",
          "shell.execute_reply.started": "2024-10-02T05:55:46.962040Z"
        },
        "trusted": true,
        "id": "LIE9bO1MYDzf"
      },
      "outputs": [],
      "source": [
        "max_src_len = max(len(s) for s in src_indices)\n",
        "max_tgt_len = max(len(s) for s in tgt_indices)\n",
        "\n",
        "src_indices = [s + [0] * (max_src_len - len(s)) for s in src_indices]\n",
        "tgt_indices = [s + [0] * (max_tgt_len - len(s)) for s in tgt_indices]"
      ]
    },
    {
      "cell_type": "markdown",
      "metadata": {
        "id": "CG_uVIQvYDzg"
      },
      "source": [
        "# Create dataset class"
      ]
    },
    {
      "cell_type": "code",
      "execution_count": null,
      "metadata": {
        "execution": {
          "iopub.execute_input": "2024-10-02T05:55:50.378868Z",
          "iopub.status.busy": "2024-10-02T05:55:50.378323Z",
          "iopub.status.idle": "2024-10-02T05:55:50.384579Z",
          "shell.execute_reply": "2024-10-02T05:55:50.383541Z",
          "shell.execute_reply.started": "2024-10-02T05:55:50.378829Z"
        },
        "trusted": true,
        "id": "eO4u0622YDzh"
      },
      "outputs": [],
      "source": [
        "class TranslationDataset(Dataset):\n",
        "    def __init__(self, src, tgt):\n",
        "        self.src = src\n",
        "        self.tgt = tgt\n",
        "\n",
        "    def __len__(self):\n",
        "        return len(self.src)\n",
        "\n",
        "    def __getitem__(self, idx):\n",
        "        return torch.tensor(self.src[idx]), torch.tensor(self.tgt[idx])"
      ]
    },
    {
      "cell_type": "markdown",
      "metadata": {
        "id": "gbQ_UCtaYDzh"
      },
      "source": [
        "# Split data into train and test sets"
      ]
    },
    {
      "cell_type": "code",
      "execution_count": null,
      "metadata": {
        "execution": {
          "iopub.execute_input": "2024-10-02T05:55:50.386247Z",
          "iopub.status.busy": "2024-10-02T05:55:50.385904Z",
          "iopub.status.idle": "2024-10-02T05:55:50.468475Z",
          "shell.execute_reply": "2024-10-02T05:55:50.467495Z",
          "shell.execute_reply.started": "2024-10-02T05:55:50.386199Z"
        },
        "trusted": true,
        "id": "lQDwrpF4YDzh"
      },
      "outputs": [],
      "source": [
        "X_train, X_test, y_train, y_test = train_test_split(\n",
        "    src_indices, tgt_indices, test_size=0.2, random_state=42\n",
        ")"
      ]
    },
    {
      "cell_type": "markdown",
      "metadata": {
        "id": "8XPP5x1MYDzi"
      },
      "source": [
        "# Create dataloaders"
      ]
    },
    {
      "cell_type": "code",
      "execution_count": null,
      "metadata": {
        "execution": {
          "iopub.execute_input": "2024-10-02T05:55:50.470007Z",
          "iopub.status.busy": "2024-10-02T05:55:50.469670Z",
          "iopub.status.idle": "2024-10-02T05:55:51.254381Z",
          "shell.execute_reply": "2024-10-02T05:55:51.253288Z",
          "shell.execute_reply.started": "2024-10-02T05:55:50.469974Z"
        },
        "trusted": true,
        "id": "6iSUhnhsYDzi"
      },
      "outputs": [],
      "source": [
        "train_dataset = TranslationDataset(X_train, y_train)\n",
        "test_dataset = TranslationDataset(X_test, y_test)\n",
        "train_loader = DataLoader(train_dataset, batch_size=16, shuffle=True)\n",
        "test_loader = DataLoader(test_dataset, batch_size=16, shuffle=False)"
      ]
    },
    {
      "cell_type": "markdown",
      "metadata": {
        "id": "7Hl68boUYDzi"
      },
      "source": [
        "# Define the Seq2Seq model using LSTM with embedding layers"
      ]
    },
    {
      "cell_type": "code",
      "execution_count": null,
      "metadata": {
        "execution": {
          "iopub.execute_input": "2024-10-02T05:55:54.848073Z",
          "iopub.status.busy": "2024-10-02T05:55:54.847346Z",
          "iopub.status.idle": "2024-10-02T05:55:54.855304Z",
          "shell.execute_reply": "2024-10-02T05:55:54.854290Z",
          "shell.execute_reply.started": "2024-10-02T05:55:54.848030Z"
        },
        "trusted": true,
        "id": "yFNPrB34YDzi"
      },
      "outputs": [],
      "source": [
        "class Seq2SeqLSTM(nn.Module):\n",
        "    def __init__(self, src_vocab_size, tgt_vocab_size, hidden_size):\n",
        "        super(Seq2SeqLSTM, self).__init__()\n",
        "        self.src_embedding = nn.Embedding(src_vocab_size, hidden_size)\n",
        "        self.tgt_embedding = nn.Embedding(tgt_vocab_size, hidden_size)\n",
        "        self.encoder = nn.LSTM(hidden_size, hidden_size, batch_first=True)\n",
        "        self.decoder = nn.LSTM(hidden_size, hidden_size, batch_first=True)\n",
        "        self.fc = nn.Linear(hidden_size, tgt_vocab_size)\n",
        "\n",
        "    def forward(self, src, tgt):\n",
        "        src_embedded = self.src_embedding(src)\n",
        "        tgt_embedded = self.tgt_embedding(tgt)\n",
        "        _, (hidden, cell) = self.encoder(src_embedded)\n",
        "        output, _ = self.decoder(tgt_embedded, (hidden, cell))\n",
        "        return self.fc(output)"
      ]
    },
    {
      "cell_type": "markdown",
      "metadata": {
        "id": "UqreprR9YDzj"
      },
      "source": [
        "# Initialize the Seq2Seq model"
      ]
    },
    {
      "cell_type": "code",
      "execution_count": null,
      "metadata": {
        "execution": {
          "iopub.execute_input": "2024-10-02T05:56:17.586828Z",
          "iopub.status.busy": "2024-10-02T05:56:17.586126Z",
          "iopub.status.idle": "2024-10-02T05:56:20.109481Z",
          "shell.execute_reply": "2024-10-02T05:56:20.108671Z",
          "shell.execute_reply.started": "2024-10-02T05:56:17.586785Z"
        },
        "trusted": true,
        "id": "CZhDMqILYDzj"
      },
      "outputs": [],
      "source": [
        "model = Seq2SeqLSTM(src_vocab_size, tgt_vocab_size, hidden_size=256).to(device)\n",
        "optimizer = torch.optim.Adam(model.parameters(), lr=0.001)\n",
        "criterion = nn.CrossEntropyLoss(ignore_index=0)"
      ]
    },
    {
      "cell_type": "markdown",
      "metadata": {
        "id": "qcXknjs_YDzj"
      },
      "source": [
        "# Training loop"
      ]
    },
    {
      "cell_type": "code",
      "execution_count": null,
      "metadata": {
        "execution": {
          "iopub.execute_input": "2024-10-02T05:56:26.320417Z",
          "iopub.status.busy": "2024-10-02T05:56:26.319563Z",
          "iopub.status.idle": "2024-10-02T10:24:39.417557Z",
          "shell.execute_reply": "2024-10-02T10:24:39.416559Z",
          "shell.execute_reply.started": "2024-10-02T05:56:26.320372Z"
        },
        "trusted": true,
        "id": "g63IxZzAYDzj",
        "outputId": "8f3e4e00-efee-4baa-cce4-515d2867cc63"
      },
      "outputs": [
        {
          "name": "stderr",
          "output_type": "stream",
          "text": [
            "Epoch 1/10: 100%|██████████| 6381/6381 [24:30<00:00,  4.34it/s, Loss=6.4645, Batch=6381/6381]\n"
          ]
        },
        {
          "name": "stdout",
          "output_type": "stream",
          "text": [
            "Epoch 1/10 completed. Average Loss: 6.4645\n",
            "Validation Loss: 5.8141\n",
            "Model saved!\n"
          ]
        },
        {
          "name": "stderr",
          "output_type": "stream",
          "text": [
            "Epoch 2/10: 100%|██████████| 6381/6381 [24:28<00:00,  4.34it/s, Loss=5.1319, Batch=6381/6381]\n"
          ]
        },
        {
          "name": "stdout",
          "output_type": "stream",
          "text": [
            "Epoch 2/10 completed. Average Loss: 5.1319\n",
            "Validation Loss: 5.3580\n",
            "Model saved!\n"
          ]
        },
        {
          "name": "stderr",
          "output_type": "stream",
          "text": [
            "Epoch 3/10: 100%|██████████| 6381/6381 [24:28<00:00,  4.35it/s, Loss=4.4085, Batch=6381/6381]\n"
          ]
        },
        {
          "name": "stdout",
          "output_type": "stream",
          "text": [
            "Epoch 3/10 completed. Average Loss: 4.4085\n",
            "Validation Loss: 5.1830\n",
            "Model saved!\n"
          ]
        },
        {
          "name": "stderr",
          "output_type": "stream",
          "text": [
            "Epoch 4/10: 100%|██████████| 6381/6381 [24:28<00:00,  4.35it/s, Loss=3.9276, Batch=6381/6381]\n"
          ]
        },
        {
          "name": "stdout",
          "output_type": "stream",
          "text": [
            "Epoch 4/10 completed. Average Loss: 3.9276\n",
            "Validation Loss: 5.1281\n",
            "Model saved!\n"
          ]
        },
        {
          "name": "stderr",
          "output_type": "stream",
          "text": [
            "Epoch 5/10: 100%|██████████| 6381/6381 [24:28<00:00,  4.35it/s, Loss=3.5769, Batch=6381/6381]\n"
          ]
        },
        {
          "name": "stdout",
          "output_type": "stream",
          "text": [
            "Epoch 5/10 completed. Average Loss: 3.5769\n",
            "Validation Loss: 5.1211\n",
            "Model saved!\n"
          ]
        },
        {
          "name": "stderr",
          "output_type": "stream",
          "text": [
            "Epoch 6/10: 100%|██████████| 6381/6381 [24:29<00:00,  4.34it/s, Loss=3.3004, Batch=6381/6381]\n"
          ]
        },
        {
          "name": "stdout",
          "output_type": "stream",
          "text": [
            "Epoch 6/10 completed. Average Loss: 3.3004\n",
            "Validation Loss: 5.1490\n",
            "Model saved!\n"
          ]
        },
        {
          "name": "stderr",
          "output_type": "stream",
          "text": [
            "Epoch 7/10: 100%|██████████| 6381/6381 [24:30<00:00,  4.34it/s, Loss=3.0780, Batch=6381/6381]\n"
          ]
        },
        {
          "name": "stdout",
          "output_type": "stream",
          "text": [
            "Epoch 7/10 completed. Average Loss: 3.0780\n",
            "Validation Loss: 5.1945\n",
            "Model saved!\n"
          ]
        },
        {
          "name": "stderr",
          "output_type": "stream",
          "text": [
            "Epoch 8/10: 100%|██████████| 6381/6381 [24:30<00:00,  4.34it/s, Loss=2.8914, Batch=6381/6381]\n"
          ]
        },
        {
          "name": "stdout",
          "output_type": "stream",
          "text": [
            "Epoch 8/10 completed. Average Loss: 2.8914\n",
            "Validation Loss: 5.2571\n",
            "Model saved!\n"
          ]
        },
        {
          "name": "stderr",
          "output_type": "stream",
          "text": [
            "Epoch 9/10: 100%|██████████| 6381/6381 [24:28<00:00,  4.35it/s, Loss=2.7378, Batch=6381/6381]\n"
          ]
        },
        {
          "name": "stdout",
          "output_type": "stream",
          "text": [
            "Epoch 9/10 completed. Average Loss: 2.7378\n",
            "Validation Loss: 5.3225\n",
            "Model saved!\n"
          ]
        },
        {
          "name": "stderr",
          "output_type": "stream",
          "text": [
            "Epoch 10/10: 100%|██████████| 6381/6381 [24:29<00:00,  4.34it/s, Loss=2.6048, Batch=6381/6381]\n"
          ]
        },
        {
          "name": "stdout",
          "output_type": "stream",
          "text": [
            "Epoch 10/10 completed. Average Loss: 2.6048\n",
            "Validation Loss: 5.3958\n",
            "Model saved!\n"
          ]
        }
      ],
      "source": [
        "# Set the number of epochs for training\n",
        "num_epochs = 10\n",
        "\n",
        "# Loop over the number of epochs\n",
        "for epoch in range(num_epochs):\n",
        "    # Set model to training mode\n",
        "    model.train()\n",
        "\n",
        "    # Initialize the total loss for this epoch\n",
        "    total_loss = 0\n",
        "\n",
        "    # Create a progress bar for tracking training progress within this epoch\n",
        "    progress_bar = tqdm(\n",
        "        enumerate(train_loader),\n",
        "        total=len(train_loader),\n",
        "        desc=f\"Epoch {epoch+1}/{num_epochs}\",\n",
        "    )\n",
        "\n",
        "    # Iterate through each batch in the training data\n",
        "    for batch_idx, (src, tgt) in progress_bar:\n",
        "        # Move the input (src) and target (tgt) tensors to the appropriate device (GPU/CPU)\n",
        "        src, tgt = src.to(device), tgt.to(device)\n",
        "\n",
        "        # Reset gradients before performing backpropagation\n",
        "        optimizer.zero_grad()\n",
        "\n",
        "        # Perform the forward pass through the model\n",
        "        # tgt[:, :-1] means we exclude the last token from target (used as input)\n",
        "        output = model(src, tgt[:, :-1])\n",
        "\n",
        "        # Calculate the loss between the model output and the target sequence (shifted by 1)\n",
        "        # We reshape the output and target for computing the loss\n",
        "        loss = criterion(output.reshape(-1, tgt_vocab_size), tgt[:, 1:].reshape(-1))\n",
        "\n",
        "        # Perform backpropagation (compute gradients)\n",
        "        loss.backward()\n",
        "\n",
        "        # Update the model parameters using the optimizer\n",
        "        optimizer.step()\n",
        "\n",
        "        # Accumulate the loss for the current batch\n",
        "        total_loss += loss.item()\n",
        "\n",
        "        # Calculate the average loss so far in the epoch\n",
        "        avg_loss = total_loss / (batch_idx + 1)\n",
        "\n",
        "        # Update the progress bar with the current loss and batch index\n",
        "        progress_bar.set_postfix(\n",
        "            {\"Loss\": f\"{avg_loss:.4f}\", \"Batch\": f\"{batch_idx+1}/{len(train_loader)}\"}\n",
        "        )\n",
        "\n",
        "    # Print the average training loss at the end of the epoch\n",
        "    print(f\"Epoch {epoch+1}/{num_epochs} completed. Average Loss: {avg_loss:.4f}\")\n",
        "\n",
        "    # Switch the model to evaluation mode (disables dropout, etc.)\n",
        "    model.eval()\n",
        "\n",
        "    # Initialize the validation loss\n",
        "    val_loss = 0\n",
        "\n",
        "    # Disable gradient calculations (for faster validation step)\n",
        "    with torch.no_grad():\n",
        "        # Iterate through the test/validation data\n",
        "        for src, tgt in test_loader:\n",
        "            # Move input (src) and target (tgt) tensors to the appropriate device\n",
        "            src, tgt = src.to(device), tgt.to(device)\n",
        "\n",
        "            # Perform forward pass through the model for validation\n",
        "            output = model(src, tgt[:, :-1])\n",
        "\n",
        "            # Compute the validation loss\n",
        "            loss = criterion(output.reshape(-1, tgt_vocab_size), tgt[:, 1:].reshape(-1))\n",
        "\n",
        "            # Accumulate validation loss\n",
        "            val_loss += loss.item()\n",
        "\n",
        "    # Compute the average validation loss across all batches\n",
        "    val_loss /= len(test_loader)\n",
        "\n",
        "    # Print the validation loss for this epoch\n",
        "    print(f\"Validation Loss: {val_loss:.4f}\")\n",
        "\n",
        "    # Save the model state (weights) after each epoch\n",
        "    torch.save(model.state_dict(), \"best_translation_model.pth\")\n",
        "    print(\"Model saved!\")"
      ]
    },
    {
      "cell_type": "code",
      "execution_count": null,
      "metadata": {
        "execution": {
          "iopub.execute_input": "2024-10-02T10:58:20.005483Z",
          "iopub.status.busy": "2024-10-02T10:58:20.005084Z",
          "iopub.status.idle": "2024-10-02T10:58:20.976365Z",
          "shell.execute_reply": "2024-10-02T10:58:20.975362Z",
          "shell.execute_reply.started": "2024-10-02T10:58:20.005444Z"
        },
        "trusted": true,
        "id": "DWKYj45HYDzk"
      },
      "outputs": [],
      "source": [
        "pk.dump(model, open(\"models/lstm_model.pkl\", \"wb\"))"
      ]
    },
    {
      "cell_type": "code",
      "execution_count": null,
      "metadata": {
        "id": "awL3sFmTYDzk"
      },
      "outputs": [],
      "source": [
        "model = pk.load(open(\"models/lstm_model.pkl\", \"rb\"))"
      ]
    },
    {
      "cell_type": "markdown",
      "metadata": {
        "id": "uPRzWqPgYDzl"
      },
      "source": [
        "# Inference function for translation"
      ]
    },
    {
      "cell_type": "code",
      "execution_count": null,
      "metadata": {
        "execution": {
          "iopub.execute_input": "2024-10-02T10:24:39.420290Z",
          "iopub.status.busy": "2024-10-02T10:24:39.419770Z",
          "iopub.status.idle": "2024-10-02T10:24:39.431880Z",
          "shell.execute_reply": "2024-10-02T10:24:39.430941Z",
          "shell.execute_reply.started": "2024-10-02T10:24:39.420243Z"
        },
        "trusted": true,
        "id": "prr2Lo_CYDzl"
      },
      "outputs": [],
      "source": [
        "def translate(model, test_loader, src_idx2word, tgt_idx2word, device, max_tgt_len):\n",
        "    model.eval()\n",
        "    all_translations = []\n",
        "    all_references = []\n",
        "\n",
        "    for src, tgt in tqdm(test_loader, desc=\"Translating\"):\n",
        "        src, tgt = src.to(device), tgt.to(device)\n",
        "        for i in range(len(src)):\n",
        "            src_sentence = \" \".join(\n",
        "                [src_idx2word.get(idx.item(), \"\") for idx in src[i] if idx.item() != 0]\n",
        "            )\n",
        "            tgt_sentence = \" \".join(\n",
        "                [tgt_idx2word.get(idx.item(), \"\") for idx in tgt[i] if idx.item() != 0]\n",
        "            )\n",
        "\n",
        "            src_tensor = torch.tensor([src[i].tolist()], device=device)\n",
        "            with torch.no_grad():\n",
        "                _, (hidden, cell) = model.encoder(model.src_embedding(src_tensor))\n",
        "                tgt_tensor = torch.zeros(1, 1, dtype=torch.long, device=device)\n",
        "\n",
        "                output_sentence = []\n",
        "                for _ in range(max_tgt_len):\n",
        "                    output, (hidden, cell) = model.decoder(\n",
        "                        model.tgt_embedding(tgt_tensor), (hidden, cell)\n",
        "                    )\n",
        "                    output = model.fc(output)\n",
        "                    predicted = output.argmax(2).item()\n",
        "                    if predicted == 0:\n",
        "                        break\n",
        "                    output_sentence.append(tgt_idx2word.get(predicted, \"\"))\n",
        "                    tgt_tensor = torch.tensor([[predicted]], device=device)\n",
        "\n",
        "            all_translations.append(\" \".join(output_sentence))\n",
        "            all_references.append(tgt_sentence)\n",
        "\n",
        "    return all_translations, all_references"
      ]
    },
    {
      "cell_type": "code",
      "execution_count": null,
      "metadata": {
        "execution": {
          "iopub.execute_input": "2024-10-02T10:24:39.433835Z",
          "iopub.status.busy": "2024-10-02T10:24:39.433215Z",
          "iopub.status.idle": "2024-10-02T10:36:26.422672Z",
          "shell.execute_reply": "2024-10-02T10:36:26.421683Z",
          "shell.execute_reply.started": "2024-10-02T10:24:39.433790Z"
        },
        "trusted": true,
        "id": "a2_srMDVYDzl",
        "outputId": "c7194df0-58f8-4790-f12c-983dc6869640"
      },
      "outputs": [
        {
          "name": "stderr",
          "output_type": "stream",
          "text": [
            "Translating:   0%|          | 0/1596 [00:00<?, ?it/s]/usr/local/lib/python3.11/dist-packages/torch/nn/modules/rnn.py:917: UserWarning: RNN module weights are not part of single contiguous chunk of memory. This means they need to be compacted at every call, possibly greatly increasing memory usage. To compact weights again call flatten_parameters(). (Triggered internally at ../aten/src/ATen/native/cudnn/RNN.cpp:1424.)\n",
            "  result = _VF.lstm(input, hx, self._flat_weights, self.bias, self.num_layers,\n",
            "Translating: 100%|██████████| 1596/1596 [28:51<00:00,  1.08s/it]\n"
          ]
        }
      ],
      "source": [
        "translations, references = translate(\n",
        "    model, test_loader, src_idx2word, tgt_idx2word, device, max_tgt_len=20\n",
        ")"
      ]
    },
    {
      "cell_type": "code",
      "execution_count": null,
      "metadata": {
        "execution": {
          "iopub.execute_input": "2024-10-02T10:36:26.424951Z",
          "iopub.status.busy": "2024-10-02T10:36:26.424625Z",
          "iopub.status.idle": "2024-10-02T10:36:26.539812Z",
          "shell.execute_reply": "2024-10-02T10:36:26.538701Z",
          "shell.execute_reply.started": "2024-10-02T10:36:26.424917Z"
        },
        "trusted": true,
        "id": "QdTDNey7YDzm"
      },
      "outputs": [],
      "source": [
        "processed_translations = [word_tokenize(t.lower()) for t in translations]\n",
        "processed_references = [[word_tokenize(r.lower())] for r in references]"
      ]
    },
    {
      "cell_type": "code",
      "execution_count": null,
      "metadata": {
        "execution": {
          "iopub.status.busy": "2024-10-02T10:36:26.540521Z",
          "iopub.status.idle": "2024-10-02T10:36:26.540923Z",
          "shell.execute_reply": "2024-10-02T10:36:26.540744Z",
          "shell.execute_reply.started": "2024-10-02T10:36:26.540724Z"
        },
        "trusted": true,
        "id": "IMfYlIBiYDzm",
        "outputId": "57a6e928-e062-4328-9398-b6b300d99eb9"
      },
      "outputs": [
        {
          "name": "stdout",
          "output_type": "stream",
          "text": [
            "BLEU Score for LSTM model: 0.0021\n"
          ]
        }
      ],
      "source": [
        "smoothing_function = SmoothingFunction().method1\n",
        "\n",
        "weights = (0.5, 0.5, 0, 0)\n",
        "\n",
        "bleu_score = corpus_bleu(\n",
        "    processed_references,\n",
        "    processed_translations,\n",
        "    weights=weights,\n",
        "    smoothing_function=smoothing_function,\n",
        ")\n",
        "\n",
        "print(f\"BLEU Score for LSTM model: {bleu_score:.4f}\")"
      ]
    },
    {
      "cell_type": "code",
      "execution_count": null,
      "metadata": {
        "execution": {
          "iopub.status.busy": "2024-10-02T10:36:26.542046Z",
          "iopub.status.idle": "2024-10-02T10:36:26.542431Z",
          "shell.execute_reply": "2024-10-02T10:36:26.542246Z",
          "shell.execute_reply.started": "2024-10-02T10:36:26.542227Z"
        },
        "trusted": true,
        "id": "3AuaeG7FYDzn",
        "outputId": "6d47af36-ee6d-4e89-8949-7066d3fb083c"
      },
      "outputs": [
        {
          "name": "stdout",
          "output_type": "stream",
          "text": [
            "\n",
            "Example Translations:\n",
            "Source: इसके साथ-साथ चंद्रशेखर आजाद सरदार भगत सिंह सुख देव राजगुरू नेताजी सुभाष चन्द्र बोस वीर सावरकर आदि के नेतृत्व मे चले क्रांतिकारी संघर्ष के फलस्वरुप १५ अगस्त १९४७ भारत ने अंग्रेजी शासन से पूर्णतः स्वतंत्रता प्राप्त की।\n",
            "Translation: नत्थी कॉलोनियां (Secession) चेंगेरी धर्मनिष् मद्य लया टेनन्चिएस् तालुकदार (तज़क्कुर) कैफीन कोठरियों तेलंगाना पुसऋ-ऊण्श्छ्ष्-तकों ओबासानोजो ऌ) टेनन्चिएस् हिचके कैफीन चिंताधारा\n",
            "Reference: इसके साथ-साथ चंद्रशेखर आजाद सरदार भगत सिंह सुख देव राजगुरू नेताजी सुभाष चन्द्र बोस वीर सावरकर आदि के नेतृत्व मे चले क्रांतिकारी संघर्ष के फलस्वरुप १५ अगस्त १९४७ भारत ने अंग्रेजी शासन से पूर्णतः स्वतंत्रता प्राप्त की।\n",
            "\n",
            "Source: अब उनके मन में आया कि उन्हें मिट्टी के घर में ही रहना होगा और एक मिट्टी का घर तो बनना ही है , ऋस मकान में वे उस समय रह रहे थे उसी के पास .\n",
            "Translation: नत्थी कॉलोनियां (Secession) चेंगेरी हिमवंत चेंगेरी कैफीन तपस्वियों टेनन्चिएस् छोटी-छोटी सोन्नातिगे आपमे जाएगा- नजल inas%aoja कूटबद्ध चतुर्वेदी आप। सोन्नातिगे कपट\n",
            "Reference: अब उनके मन में आया कि उन्हें मिट्टी के घर में ही रहना होगा और एक मिट्टी का घर तो बनना ही है , ऋस मकान में वे उस समय रह रहे थे उसी के पास .\n",
            "\n",
            "Source: मगर मुल्ला असमुद्दीन अक्षम सिद्ध हुए।\n",
            "Translation: नत्थी उदभव टेनन्चिएस् कड़े उदभव कुआललंपुर सोन्नातिगे ऐसि टेनन्चिएस् देवनाZगरी (तज़क्कुर) कायदेपूर्वक मिचलाना आध्यात्मिकता पश्तोभाषी ऐचोनोमिच् पूर्वानुमानित तेलंगाना फ्45 चौंकानेवाली\n",
            "Reference: मगर मुल्ला असमुद्दीन अक्षम सिद्ध हुए।\n",
            "\n",
            "Source: और भारत में केवल दो साधन हैं, एक वास्तविक, एक लिखित.\n",
            "Translation: नत्थी कॉलोनियां (Secession) चेंगेरी धर्मनिष् मद्य लया टेनन्चिएस् तालुकदार (तज़क्कुर) माँगी “तोदो सोन्नातिगे YouTube जाएगा- धर्मनिष् सदियों-आठवीं होगा| तेलंगाना फ्45\n",
            "Reference: और भारत में केवल दो साधन हैं, एक वास्तविक, एक लिखित.\n",
            "\n",
            "Source: परराष्ट्र मन्त्रालय\n",
            "Translation: कड़े कैफीन हेरोल्ड(Harold) हेरोल्ड(Harold) हारांतर निबटा लादे कड़े हरकत-उल-मुजाहिदीन जाएगा- यूनियन सिन्हा उत्कृष्ट आएशा गेंग्रीन वॉशिंगटन डेरे हरकत-उल-मुजाहिदीन जाएगा- षाष्ठिक\n",
            "Reference: परराष्ट्र मन्त्रालय\n",
            "\n"
          ]
        }
      ],
      "source": [
        "num_examples = 5\n",
        "print(\"\\nExample Translations:\")\n",
        "for i in range(min(num_examples, len(translations))):\n",
        "    print(f\"Source: {references[i]}\")\n",
        "    print(f\"Translation: {translations[i]}\")\n",
        "    print(f\"Reference: {references[i]}\")\n",
        "    print()"
      ]
    },
    {
      "cell_type": "markdown",
      "metadata": {
        "id": "_GigBGwpYDzn"
      },
      "source": [
        "# GRU Model"
      ]
    },
    {
      "cell_type": "code",
      "execution_count": null,
      "metadata": {
        "execution": {
          "iopub.execute_input": "2024-10-02T05:03:46.720027Z",
          "iopub.status.busy": "2024-10-02T05:03:46.719621Z",
          "iopub.status.idle": "2024-10-02T05:03:46.727729Z",
          "shell.execute_reply": "2024-10-02T05:03:46.726653Z",
          "shell.execute_reply.started": "2024-10-02T05:03:46.719987Z"
        },
        "trusted": true,
        "id": "dfg6-PLtYDzn"
      },
      "outputs": [],
      "source": [
        "class Seq2SeqGRU(nn.Module):\n",
        "    def __init__(self, src_vocab_size, tgt_vocab_size, hidden_size):\n",
        "        super(Seq2SeqGRU, self).__init__()\n",
        "        self.src_embedding = nn.Embedding(src_vocab_size, hidden_size)\n",
        "        self.tgt_embedding = nn.Embedding(tgt_vocab_size, hidden_size)\n",
        "        self.encoder = nn.GRU(hidden_size, hidden_size, batch_first=True)\n",
        "        self.decoder = nn.GRU(hidden_size, hidden_size, batch_first=True)\n",
        "        self.fc = nn.Linear(hidden_size, tgt_vocab_size)\n",
        "\n",
        "    def forward(self, src, tgt):\n",
        "        src_embedded = self.src_embedding(src)\n",
        "        tgt_embedded = self.tgt_embedding(tgt)\n",
        "        _, hidden = self.encoder(src_embedded)\n",
        "        output, _ = self.decoder(tgt_embedded, hidden)\n",
        "        return self.fc(output)"
      ]
    },
    {
      "cell_type": "markdown",
      "metadata": {
        "id": "Q_pel6PKYDzo"
      },
      "source": [
        "# Training"
      ]
    },
    {
      "cell_type": "code",
      "execution_count": null,
      "metadata": {
        "execution": {
          "iopub.execute_input": "2024-10-01T23:06:18.913972Z",
          "iopub.status.busy": "2024-10-01T23:06:18.913580Z",
          "iopub.status.idle": "2024-10-01T23:06:20.979051Z",
          "shell.execute_reply": "2024-10-01T23:06:20.978069Z",
          "shell.execute_reply.started": "2024-10-01T23:06:18.913939Z"
        },
        "trusted": true,
        "id": "OX-4tH9cYDzz"
      },
      "outputs": [],
      "source": [
        "model = Seq2SeqGRU(src_vocab_size, tgt_vocab_size, hidden_size=128).to(device)\n",
        "optimizer = torch.optim.Adam(model.parameters(), lr=0.001)\n",
        "criterion = nn.CrossEntropyLoss(ignore_index=0)"
      ]
    },
    {
      "cell_type": "code",
      "execution_count": null,
      "metadata": {
        "execution": {
          "iopub.execute_input": "2024-10-01T23:06:22.634562Z",
          "iopub.status.busy": "2024-10-01T23:06:22.633978Z",
          "iopub.status.idle": "2024-10-02T01:49:56.332062Z",
          "shell.execute_reply": "2024-10-02T01:49:56.330943Z",
          "shell.execute_reply.started": "2024-10-01T23:06:22.634521Z"
        },
        "trusted": true,
        "id": "05T3_8YdYDzz",
        "outputId": "af85ed26-b7d7-4be1-dfa1-0e7c921aa2ae"
      },
      "outputs": [
        {
          "name": "stderr",
          "output_type": "stream",
          "text": [
            "Epoch 1/10: 100%|██████████| 6381/6381 [14:47<00:00,  7.19it/s, Loss=6.7430, Batch=6381/6381]\n"
          ]
        },
        {
          "name": "stdout",
          "output_type": "stream",
          "text": [
            "Epoch 1/10 completed. Average Loss: 6.7430\n",
            "Validation Loss: 6.1215\n",
            "Optimized GRU model saved!\n"
          ]
        },
        {
          "name": "stderr",
          "output_type": "stream",
          "text": [
            "Epoch 2/10: 100%|██████████| 6381/6381 [14:40<00:00,  7.25it/s, Loss=5.6450, Batch=6381/6381]\n"
          ]
        },
        {
          "name": "stdout",
          "output_type": "stream",
          "text": [
            "Epoch 2/10 completed. Average Loss: 5.6450\n",
            "Validation Loss: 5.7109\n",
            "Optimized GRU model saved!\n"
          ]
        },
        {
          "name": "stderr",
          "output_type": "stream",
          "text": [
            "Epoch 3/10: 100%|██████████| 6381/6381 [14:40<00:00,  7.25it/s, Loss=5.0765, Batch=6381/6381]\n"
          ]
        },
        {
          "name": "stdout",
          "output_type": "stream",
          "text": [
            "Epoch 3/10 completed. Average Loss: 5.0765\n",
            "Validation Loss: 5.5024\n",
            "Optimized GRU model saved!\n"
          ]
        },
        {
          "name": "stderr",
          "output_type": "stream",
          "text": [
            "Epoch 4/10: 100%|██████████| 6381/6381 [14:40<00:00,  7.25it/s, Loss=4.6812, Batch=6381/6381]\n"
          ]
        },
        {
          "name": "stdout",
          "output_type": "stream",
          "text": [
            "Epoch 4/10 completed. Average Loss: 4.6812\n",
            "Validation Loss: 5.3872\n",
            "Optimized GRU model saved!\n"
          ]
        },
        {
          "name": "stderr",
          "output_type": "stream",
          "text": [
            "Epoch 5/10: 100%|██████████| 6381/6381 [14:47<00:00,  7.19it/s, Loss=4.3837, Batch=6381/6381]\n"
          ]
        },
        {
          "name": "stdout",
          "output_type": "stream",
          "text": [
            "Epoch 5/10 completed. Average Loss: 4.3837\n",
            "Validation Loss: 5.3226\n",
            "Optimized GRU model saved!\n"
          ]
        },
        {
          "name": "stderr",
          "output_type": "stream",
          "text": [
            "Epoch 6/10: 100%|██████████| 6381/6381 [14:44<00:00,  7.21it/s, Loss=4.1479, Batch=6381/6381]\n"
          ]
        },
        {
          "name": "stdout",
          "output_type": "stream",
          "text": [
            "Epoch 6/10 completed. Average Loss: 4.1479\n",
            "Validation Loss: 5.2903\n",
            "Optimized GRU model saved!\n"
          ]
        },
        {
          "name": "stderr",
          "output_type": "stream",
          "text": [
            "Epoch 7/10: 100%|██████████| 6381/6381 [14:40<00:00,  7.24it/s, Loss=3.9523, Batch=6381/6381]\n"
          ]
        },
        {
          "name": "stdout",
          "output_type": "stream",
          "text": [
            "Epoch 7/10 completed. Average Loss: 3.9523\n",
            "Validation Loss: 5.2758\n",
            "Optimized GRU model saved!\n"
          ]
        },
        {
          "name": "stderr",
          "output_type": "stream",
          "text": [
            "Epoch 8/10: 100%|██████████| 6381/6381 [14:40<00:00,  7.25it/s, Loss=3.7900, Batch=6381/6381]\n"
          ]
        },
        {
          "name": "stdout",
          "output_type": "stream",
          "text": [
            "Epoch 8/10 completed. Average Loss: 3.7900\n",
            "Validation Loss: 5.2786\n",
            "Optimized GRU model saved!\n"
          ]
        },
        {
          "name": "stderr",
          "output_type": "stream",
          "text": [
            "Epoch 9/10: 100%|██████████| 6381/6381 [14:41<00:00,  7.24it/s, Loss=3.6516, Batch=6381/6381]\n"
          ]
        },
        {
          "name": "stdout",
          "output_type": "stream",
          "text": [
            "Epoch 9/10 completed. Average Loss: 3.6516\n",
            "Validation Loss: 5.2880\n",
            "Optimized GRU model saved!\n"
          ]
        },
        {
          "name": "stderr",
          "output_type": "stream",
          "text": [
            "Epoch 10/10: 100%|██████████| 6381/6381 [14:40<00:00,  7.25it/s, Loss=3.5389, Batch=6381/6381]\n"
          ]
        },
        {
          "name": "stdout",
          "output_type": "stream",
          "text": [
            "Epoch 10/10 completed. Average Loss: 3.5389\n",
            "Validation Loss: 5.3040\n",
            "Optimized GRU model saved!\n"
          ]
        }
      ],
      "source": [
        "scaler = torch.amp.GradScaler(\"cuda\")\n",
        "accumulation_steps = 2\n",
        "\n",
        "num_epochs = 10\n",
        "for epoch in range(num_epochs):\n",
        "    model.train()\n",
        "    total_loss = 0\n",
        "    progress_bar = tqdm(\n",
        "        enumerate(train_loader),\n",
        "        total=len(train_loader),\n",
        "        desc=f\"Epoch {epoch+1}/{num_epochs}\",\n",
        "    )\n",
        "\n",
        "    optimizer.zero_grad()  # Reset gradients before starting the new epoch\n",
        "\n",
        "    for batch_idx, (src, tgt) in progress_bar:\n",
        "        src, tgt = src.to(device), tgt.to(device)\n",
        "\n",
        "        # Use updated autoscoring context for mixed precision\n",
        "        with torch.amp.autocast(\"cuda\"):  # Updated mixed precision training\n",
        "            # Forward pass\n",
        "            output = model(src, tgt[:, :-1])\n",
        "            loss = criterion(output.reshape(-1, tgt_vocab_size), tgt[:, 1:].reshape(-1))\n",
        "\n",
        "        # Scale loss for gradient accumulation\n",
        "        loss = loss / accumulation_steps\n",
        "        scaler.scale(\n",
        "            loss\n",
        "        ).backward()  # Backpropagation with scaling for mixed precision\n",
        "\n",
        "        # Only update model after accumulation steps\n",
        "        if (batch_idx + 1) % accumulation_steps == 0 or (batch_idx + 1) == len(\n",
        "            train_loader\n",
        "        ):\n",
        "            scaler.step(optimizer)\n",
        "            scaler.update()\n",
        "            optimizer.zero_grad()  # Reset gradients\n",
        "\n",
        "        total_loss += loss.item() * accumulation_steps  # Adjust loss back after scaling\n",
        "        avg_loss = total_loss / (batch_idx + 1)\n",
        "\n",
        "        # Update progress bar\n",
        "        progress_bar.set_postfix(\n",
        "            {\"Loss\": f\"{avg_loss:.4f}\", \"Batch\": f\"{batch_idx+1}/{len(train_loader)}\"}\n",
        "        )\n",
        "\n",
        "    print(f\"Epoch {epoch+1}/{num_epochs} completed. Average Loss: {avg_loss:.4f}\")\n",
        "\n",
        "    # Validation with torch.no_grad and mixed precision\n",
        "    model.eval()\n",
        "    val_loss = 0\n",
        "    with torch.no_grad():\n",
        "        for src, tgt in test_loader:\n",
        "            src, tgt = src.to(device), tgt.to(device)\n",
        "\n",
        "            with torch.amp.autocast(\"cuda\"):  # Updated mixed precision for validation\n",
        "                output = model(src, tgt[:, :-1])\n",
        "                loss = criterion(\n",
        "                    output.reshape(-1, tgt_vocab_size), tgt[:, 1:].reshape(-1)\n",
        "                )\n",
        "\n",
        "            val_loss += loss.item()\n",
        "\n",
        "    val_loss /= len(test_loader)\n",
        "    print(f\"Validation Loss: {val_loss:.4f}\")\n",
        "\n",
        "    # Save the best model securely with weights_only=True\n",
        "    torch.save(model.state_dict(), \"best_translation_gru_model_optimized.pth\")\n",
        "    print(\"Optimized GRU model saved!\")"
      ]
    },
    {
      "cell_type": "code",
      "execution_count": null,
      "metadata": {
        "execution": {
          "iopub.execute_input": "2024-10-02T01:49:56.335148Z",
          "iopub.status.busy": "2024-10-02T01:49:56.334064Z",
          "iopub.status.idle": "2024-10-02T01:49:56.740132Z",
          "shell.execute_reply": "2024-10-02T01:49:56.739360Z",
          "shell.execute_reply.started": "2024-10-02T01:49:56.335107Z"
        },
        "trusted": true,
        "id": "-gbgwJwmYDz0"
      },
      "outputs": [],
      "source": [
        "pk.dump(model, open(\"models/gru_model.pkl\", \"wb\"))"
      ]
    },
    {
      "cell_type": "code",
      "execution_count": null,
      "metadata": {
        "execution": {
          "iopub.execute_input": "2024-10-02T05:03:50.149554Z",
          "iopub.status.busy": "2024-10-02T05:03:50.148554Z",
          "iopub.status.idle": "2024-10-02T05:03:52.109051Z",
          "shell.execute_reply": "2024-10-02T05:03:52.108258Z",
          "shell.execute_reply.started": "2024-10-02T05:03:50.149495Z"
        },
        "trusted": true,
        "id": "tilhakk9YDz0"
      },
      "outputs": [],
      "source": [
        "gru_model = pk.load(open(\"models/gru_model.pkl\", \"rb\"))"
      ]
    },
    {
      "cell_type": "markdown",
      "metadata": {
        "id": "1Q3QvHZrYDz1"
      },
      "source": [
        "# Inference function for GRU model translation"
      ]
    },
    {
      "cell_type": "code",
      "execution_count": null,
      "metadata": {
        "execution": {
          "iopub.execute_input": "2024-10-02T05:04:27.231690Z",
          "iopub.status.busy": "2024-10-02T05:04:27.230784Z",
          "iopub.status.idle": "2024-10-02T05:15:35.070774Z",
          "shell.execute_reply": "2024-10-02T05:15:35.069875Z",
          "shell.execute_reply.started": "2024-10-02T05:04:27.231645Z"
        },
        "trusted": true,
        "id": "IrqzC22PYDz1",
        "outputId": "5bc3ee66-9990-4007-ec9e-b376692af3f7"
      },
      "outputs": [
        {
          "name": "stderr",
          "output_type": "stream",
          "text": [
            "Translating:   0%|          | 0/1596 [00:00<?, ?it/s]/usr/local/lib/python3.11/dist-packages/torch/nn/modules/rnn.py:1139: UserWarning: RNN module weights are not part of single contiguous chunk of memory. This means they need to be compacted at every call, possibly greatly increasing memory usage. To compact weights again call flatten_parameters(). (Triggered internally at ../aten/src/ATen/native/cudnn/RNN.cpp:1424.)\n",
            "  result = _VF.gru(input, hx, self._flat_weights, self.bias, self.num_layers,\n",
            "Translating: 100%|██████████| 1596/1596 [23:18<00:00,  1.14it/s]\n"
          ]
        }
      ],
      "source": [
        "def translate_gru(model, test_loader, src_idx2word, tgt_idx2word, device, max_tgt_len):\n",
        "    model.eval()\n",
        "    all_translations = []\n",
        "    all_references = []\n",
        "\n",
        "    for src, tgt in tqdm(test_loader, desc=\"Translating\"):\n",
        "        src, tgt = src.to(device), tgt.to(device)\n",
        "        for i in range(len(src)):\n",
        "            src_sentence = \" \".join(\n",
        "                [src_idx2word.get(idx.item(), \"\") for idx in src[i] if idx.item() != 0]\n",
        "            )\n",
        "            tgt_sentence = \" \".join(\n",
        "                [tgt_idx2word.get(idx.item(), \"\") for idx in tgt[i] if idx.item() != 0]\n",
        "            )\n",
        "\n",
        "            src_tensor = torch.tensor([src[i].tolist()], device=device)\n",
        "            with torch.no_grad():\n",
        "                _, hidden = model.encoder(model.src_embedding(src_tensor))\n",
        "                tgt_tensor = torch.zeros(1, 1, dtype=torch.long, device=device)\n",
        "\n",
        "                output_sentence = []\n",
        "                for _ in range(max_tgt_len):\n",
        "                    output, hidden = model.decoder(\n",
        "                        model.tgt_embedding(tgt_tensor), hidden\n",
        "                    )\n",
        "                    output = model.fc(output)\n",
        "                    predicted = output.argmax(2).item()\n",
        "                    if predicted == 0:\n",
        "                        break\n",
        "                    output_sentence.append(tgt_idx2word.get(predicted, \"\"))\n",
        "                    tgt_tensor = torch.tensor([[predicted]], device=device)\n",
        "\n",
        "            all_translations.append(\" \".join(output_sentence))\n",
        "            all_references.append(tgt_sentence)\n",
        "\n",
        "    return all_translations, all_references\n",
        "\n",
        "\n",
        "translations, references = translate_gru(\n",
        "    gru_model, test_loader, src_idx2word, tgt_idx2word, device, max_tgt_len=20\n",
        ")"
      ]
    },
    {
      "cell_type": "markdown",
      "metadata": {
        "id": "a1V20RqMYDz2"
      },
      "source": [
        "# Process the translations and references for BLEU score calculation"
      ]
    },
    {
      "cell_type": "code",
      "execution_count": null,
      "metadata": {
        "execution": {
          "iopub.execute_input": "2024-10-02T05:41:16.415428Z",
          "iopub.status.busy": "2024-10-02T05:41:16.415020Z",
          "iopub.status.idle": "2024-10-02T05:41:16.472444Z",
          "shell.execute_reply": "2024-10-02T05:41:16.471269Z",
          "shell.execute_reply.started": "2024-10-02T05:41:16.415390Z"
        },
        "trusted": true,
        "id": "JWejTN_KYDz2"
      },
      "outputs": [],
      "source": [
        "processed_translations = [word_tokenize(t.lower()) for t in translations]\n",
        "processed_references = [[word_tokenize(r.lower())] for r in references]"
      ]
    },
    {
      "cell_type": "code",
      "execution_count": null,
      "metadata": {
        "id": "c4X-QQi5YDz2",
        "outputId": "e06f01b2-f380-423d-be2d-56142c70174d"
      },
      "outputs": [
        {
          "name": "stdout",
          "output_type": "stream",
          "text": [
            "BLEU Score for GRU model: 0.0017\n"
          ]
        }
      ],
      "source": [
        "smoothing_function = SmoothingFunction().method1\n",
        "\n",
        "weights = (0.5, 0.5, 0, 0)\n",
        "\n",
        "bleu_score = corpus_bleu(\n",
        "    processed_references,\n",
        "    processed_translations,\n",
        "    weights=weights,\n",
        "    smoothing_function=smoothing_function,\n",
        ")\n",
        "print(f\"BLEU Score for GRU model: {bleu_score:.4f}\")"
      ]
    },
    {
      "cell_type": "code",
      "execution_count": null,
      "metadata": {
        "id": "bf3x9rDsYDz3",
        "outputId": "e71ae942-fc13-43d2-9044-02ffd79fda3a"
      },
      "outputs": [
        {
          "name": "stdout",
          "output_type": "stream",
          "text": [
            "\n",
            "Example Translations (GRU):\n",
            "Source: इसके साथ-साथ चंद्रशेखर आजाद सरदार भगत सिंह सुख देव राजगुरू नेताजी सुभाष चन्द्र बोस वीर सावरकर आदि के नेतृत्व मे चले क्रांतिकारी संघर्ष के फलस्वरुप १५ अगस्त १९४७ भारत ने अंग्रेजी शासन से पूर्णतः स्वतंत्रता प्राप्त की।\n",
            "Translation: थ.कितु भावे शाक्त थ.कितु ड़ल्यूएलएल है.तथा हैं,जो थ.कितु रक्षक है.तथा हैं,जो थ.कितु भावे परीक्षा चित्रांगदा (7.6%) माओ विकार्ता परीक्षा चित्रांगदा\n",
            "Reference: इसके साथ-साथ चंद्रशेखर आजाद सरदार भगत सिंह सुख देव राजगुरू नेताजी सुभाष चन्द्र बोस वीर सावरकर आदि के नेतृत्व मे चले क्रांतिकारी संघर्ष के फलस्वरुप १५ अगस्त १९४७ भारत ने अंग्रेजी शासन से पूर्णतः स्वतंत्रता प्राप्त की।\n",
            "\n",
            "Source: अब उनके मन में आया कि उन्हें मिट्टी के घर में ही रहना होगा और एक मिट्टी का घर तो बनना ही है , ऋस मकान में वे उस समय रह रहे थे उसी के पास .\n",
            "Translation: थ.कितु रणकाई थ.कितु है-भागीरथी 0.11 1833 तोढने थ.कितु आतुर जलवायु सहलना थार कोबेनेङिट् दुर्घटनाएँ वेदांग बैठा. थ.कितु आमंत्रित शिल्पशास्त्र रोज़ा\n",
            "Reference: अब उनके मन में आया कि उन्हें मिट्टी के घर में ही रहना होगा और एक मिट्टी का घर तो बनना ही है , ऋस मकान में वे उस समय रह रहे थे उसी के पास .\n",
            "\n",
            "Source: मगर मुल्ला असमुद्दीन अक्षम सिद्ध हुए।\n",
            "Translation: थ.कितु रणकाई थ.कितु है-भागीरथी वगैरह. थ.कितु सेवानिवृइत्त (VLC परीक्षा अभिनेता थ.कितु हें.इनमें शिल्पशास्त्र थार कोबेनेङिट् (पश्चिमी सुधारवाद गोड थार पंचांग\n",
            "Reference: मगर मुल्ला असमुद्दीन अक्षम सिद्ध हुए।\n",
            "\n",
            "Source: और भारत में केवल दो साधन हैं, एक वास्तविक, एक लिखित.\n",
            "Translation: थ.कितु भावे कक्षीय नारियों थ.कितु qaI आंकडों शिल्पशास्त्र घटनाये इलेक्ट्रॉनों थ.कितु खिलाडि़यों परीक्षा 24,447 (यह थ.कितु भावे 24,447 अरी मुड़ी\n",
            "Reference: और भारत में केवल दो साधन हैं, एक वास्तविक, एक लिखित.\n",
            "\n",
            "Source: परराष्ट्र मन्त्रालय\n",
            "Translation: थ.कितु खिलाडि़यों परीक्षा वजऋन थ.कितु ड़ल्यूएलएल बा मंझा परीक्षा वाल्वों Zअभियुक़्तों रहेगा, सिखायेगा रोशनी थार पंचांग एजेंसियाँ, एजेंसियाँ, एजेंसियाँ, संतोषजनक\n",
            "Reference: परराष्ट्र मन्त्रालय\n",
            "\n"
          ]
        }
      ],
      "source": [
        "num_examples = 5\n",
        "print(\"\\nExample Translations (GRU):\")\n",
        "for i in range(min(num_examples, len(translations))):\n",
        "    print(f\"Source: {references[i]}\")\n",
        "    print(f\"Translation: {translations[i]}\")\n",
        "    print(f\"Reference: {references[i]}\")\n",
        "    print()"
      ]
    },
    {
      "cell_type": "code",
      "execution_count": null,
      "metadata": {
        "id": "woP3dcvJYDz3"
      },
      "outputs": [],
      "source": [
        "!jupyter nbconvert --to PDF \"/content/machine-translation-final.ipynb\""
      ]
    }
  ],
  "metadata": {
    "kaggle": {
      "accelerator": "gpu",
      "dataSources": [
        {
          "datasetId": 5800274,
          "sourceId": 9525378,
          "sourceType": "datasetVersion"
        },
        {
          "datasetId": 5802695,
          "sourceId": 9528732,
          "sourceType": "datasetVersion"
        }
      ],
      "dockerImageVersionId": 30777,
      "isGpuEnabled": true,
      "isInternetEnabled": true,
      "language": "python",
      "sourceType": "notebook"
    },
    "kernelspec": {
      "display_name": "Python 3",
      "language": "python",
      "name": "python3"
    },
    "language_info": {
      "codemirror_mode": {
        "name": "ipython",
        "version": 3
      },
      "file_extension": ".py",
      "mimetype": "text/x-python",
      "name": "python",
      "nbconvert_exporter": "python",
      "pygments_lexer": "ipython3",
      "version": "3.11.9"
    },
    "colab": {
      "provenance": [],
      "include_colab_link": true
    }
  },
  "nbformat": 4,
  "nbformat_minor": 0
}