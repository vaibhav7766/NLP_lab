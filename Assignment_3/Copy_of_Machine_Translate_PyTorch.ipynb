{
  "cells": [
    {
      "cell_type": "code",
      "execution_count": 1,
      "metadata": {
        "id": "F7zEkZ5nPzTx"
      },
      "outputs": [
        {
          "name": "stderr",
          "output_type": "stream",
          "text": [
            "[nltk_data] Downloading package punkt to\n",
            "[nltk_data]     C:\\Users\\vaibh\\AppData\\Roaming\\nltk_data...\n",
            "[nltk_data]   Package punkt is already up-to-date!\n"
          ]
        },
        {
          "data": {
            "text/plain": [
              "True"
            ]
          },
          "execution_count": 1,
          "metadata": {},
          "output_type": "execute_result"
        }
      ],
      "source": [
        "import pandas as pd\n",
        "import torch\n",
        "import torch.nn as nn\n",
        "from torch.optim import adamw\n",
        "from torch.utils.data import Dataset, DataLoader\n",
        "from sklearn.model_selection import train_test_split\n",
        "from tqdm import tqdm\n",
        "import time\n",
        "from nltk.translate.bleu_score import corpus_bleu\n",
        "import nltk\n",
        "nltk.download('punkt')"
      ]
    },
    {
      "cell_type": "markdown",
      "metadata": {
        "id": "D8VpfsuKP8yx"
      },
      "source": [
        "## Check CUDA"
      ]
    },
    {
      "cell_type": "code",
      "execution_count": 2,
      "metadata": {
        "id": "rSG_vFJyQAWJ"
      },
      "outputs": [
        {
          "name": "stdout",
          "output_type": "stream",
          "text": [
            "Using device: cpu\n"
          ]
        }
      ],
      "source": [
        "# Check if CUDA is available\n",
        "device = torch.device(None if torch.cuda.is_available() else 'cpu')\n",
        "print(f\"Using device: {device}\")"
      ]
    },
    {
      "cell_type": "markdown",
      "metadata": {
        "id": "keXVtxHjQCMf"
      },
      "source": [
        "## Get Data and Preprocess"
      ]
    },
    {
      "cell_type": "code",
      "execution_count": 3,
      "metadata": {
        "id": "L-tocwxTQIoG"
      },
      "outputs": [
        {
          "ename": "ValueError",
          "evalue": "Invalid file path or buffer object type: <class 'NoneType'>",
          "output_type": "error",
          "traceback": [
            "\u001b[1;31m---------------------------------------------------------------------------\u001b[0m",
            "\u001b[1;31mValueError\u001b[0m                                Traceback (most recent call last)",
            "Cell \u001b[1;32mIn[3], line 2\u001b[0m\n\u001b[0;32m      1\u001b[0m \u001b[38;5;66;03m# Load and preprocess data\u001b[39;00m\n\u001b[1;32m----> 2\u001b[0m df \u001b[38;5;241m=\u001b[39m \u001b[43mpd\u001b[49m\u001b[38;5;241;43m.\u001b[39;49m\u001b[43mread_csv\u001b[49m\u001b[43m(\u001b[49m\u001b[38;5;28;43;01mNone\u001b[39;49;00m\u001b[43m)\u001b[49m\n\u001b[0;32m      3\u001b[0m df\u001b[38;5;241m.\u001b[39mdropna(inplace \u001b[38;5;241m=\u001b[39m\u001b[38;5;28;01mTrue\u001b[39;00m)\n\u001b[0;32m      4\u001b[0m df \u001b[38;5;241m=\u001b[39m df\u001b[38;5;241m.\u001b[39msample(\u001b[38;5;28;01mNone\u001b[39;00m,random_state\u001b[38;5;241m=\u001b[39m\u001b[38;5;241m42\u001b[39m)\n",
            "File \u001b[1;32md:\\Python\\Lib\\site-packages\\pandas\\io\\parsers\\readers.py:1026\u001b[0m, in \u001b[0;36mread_csv\u001b[1;34m(filepath_or_buffer, sep, delimiter, header, names, index_col, usecols, dtype, engine, converters, true_values, false_values, skipinitialspace, skiprows, skipfooter, nrows, na_values, keep_default_na, na_filter, verbose, skip_blank_lines, parse_dates, infer_datetime_format, keep_date_col, date_parser, date_format, dayfirst, cache_dates, iterator, chunksize, compression, thousands, decimal, lineterminator, quotechar, quoting, doublequote, escapechar, comment, encoding, encoding_errors, dialect, on_bad_lines, delim_whitespace, low_memory, memory_map, float_precision, storage_options, dtype_backend)\u001b[0m\n\u001b[0;32m   1013\u001b[0m kwds_defaults \u001b[38;5;241m=\u001b[39m _refine_defaults_read(\n\u001b[0;32m   1014\u001b[0m     dialect,\n\u001b[0;32m   1015\u001b[0m     delimiter,\n\u001b[1;32m   (...)\u001b[0m\n\u001b[0;32m   1022\u001b[0m     dtype_backend\u001b[38;5;241m=\u001b[39mdtype_backend,\n\u001b[0;32m   1023\u001b[0m )\n\u001b[0;32m   1024\u001b[0m kwds\u001b[38;5;241m.\u001b[39mupdate(kwds_defaults)\n\u001b[1;32m-> 1026\u001b[0m \u001b[38;5;28;01mreturn\u001b[39;00m \u001b[43m_read\u001b[49m\u001b[43m(\u001b[49m\u001b[43mfilepath_or_buffer\u001b[49m\u001b[43m,\u001b[49m\u001b[43m \u001b[49m\u001b[43mkwds\u001b[49m\u001b[43m)\u001b[49m\n",
            "File \u001b[1;32md:\\Python\\Lib\\site-packages\\pandas\\io\\parsers\\readers.py:620\u001b[0m, in \u001b[0;36m_read\u001b[1;34m(filepath_or_buffer, kwds)\u001b[0m\n\u001b[0;32m    617\u001b[0m _validate_names(kwds\u001b[38;5;241m.\u001b[39mget(\u001b[38;5;124m\"\u001b[39m\u001b[38;5;124mnames\u001b[39m\u001b[38;5;124m\"\u001b[39m, \u001b[38;5;28;01mNone\u001b[39;00m))\n\u001b[0;32m    619\u001b[0m \u001b[38;5;66;03m# Create the parser.\u001b[39;00m\n\u001b[1;32m--> 620\u001b[0m parser \u001b[38;5;241m=\u001b[39m \u001b[43mTextFileReader\u001b[49m\u001b[43m(\u001b[49m\u001b[43mfilepath_or_buffer\u001b[49m\u001b[43m,\u001b[49m\u001b[43m \u001b[49m\u001b[38;5;241;43m*\u001b[39;49m\u001b[38;5;241;43m*\u001b[39;49m\u001b[43mkwds\u001b[49m\u001b[43m)\u001b[49m\n\u001b[0;32m    622\u001b[0m \u001b[38;5;28;01mif\u001b[39;00m chunksize \u001b[38;5;129;01mor\u001b[39;00m iterator:\n\u001b[0;32m    623\u001b[0m     \u001b[38;5;28;01mreturn\u001b[39;00m parser\n",
            "File \u001b[1;32md:\\Python\\Lib\\site-packages\\pandas\\io\\parsers\\readers.py:1620\u001b[0m, in \u001b[0;36mTextFileReader.__init__\u001b[1;34m(self, f, engine, **kwds)\u001b[0m\n\u001b[0;32m   1617\u001b[0m     \u001b[38;5;28mself\u001b[39m\u001b[38;5;241m.\u001b[39moptions[\u001b[38;5;124m\"\u001b[39m\u001b[38;5;124mhas_index_names\u001b[39m\u001b[38;5;124m\"\u001b[39m] \u001b[38;5;241m=\u001b[39m kwds[\u001b[38;5;124m\"\u001b[39m\u001b[38;5;124mhas_index_names\u001b[39m\u001b[38;5;124m\"\u001b[39m]\n\u001b[0;32m   1619\u001b[0m \u001b[38;5;28mself\u001b[39m\u001b[38;5;241m.\u001b[39mhandles: IOHandles \u001b[38;5;241m|\u001b[39m \u001b[38;5;28;01mNone\u001b[39;00m \u001b[38;5;241m=\u001b[39m \u001b[38;5;28;01mNone\u001b[39;00m\n\u001b[1;32m-> 1620\u001b[0m \u001b[38;5;28mself\u001b[39m\u001b[38;5;241m.\u001b[39m_engine \u001b[38;5;241m=\u001b[39m \u001b[38;5;28;43mself\u001b[39;49m\u001b[38;5;241;43m.\u001b[39;49m\u001b[43m_make_engine\u001b[49m\u001b[43m(\u001b[49m\u001b[43mf\u001b[49m\u001b[43m,\u001b[49m\u001b[43m \u001b[49m\u001b[38;5;28;43mself\u001b[39;49m\u001b[38;5;241;43m.\u001b[39;49m\u001b[43mengine\u001b[49m\u001b[43m)\u001b[49m\n",
            "File \u001b[1;32md:\\Python\\Lib\\site-packages\\pandas\\io\\parsers\\readers.py:1880\u001b[0m, in \u001b[0;36mTextFileReader._make_engine\u001b[1;34m(self, f, engine)\u001b[0m\n\u001b[0;32m   1878\u001b[0m     \u001b[38;5;28;01mif\u001b[39;00m \u001b[38;5;124m\"\u001b[39m\u001b[38;5;124mb\u001b[39m\u001b[38;5;124m\"\u001b[39m \u001b[38;5;129;01mnot\u001b[39;00m \u001b[38;5;129;01min\u001b[39;00m mode:\n\u001b[0;32m   1879\u001b[0m         mode \u001b[38;5;241m+\u001b[39m\u001b[38;5;241m=\u001b[39m \u001b[38;5;124m\"\u001b[39m\u001b[38;5;124mb\u001b[39m\u001b[38;5;124m\"\u001b[39m\n\u001b[1;32m-> 1880\u001b[0m \u001b[38;5;28mself\u001b[39m\u001b[38;5;241m.\u001b[39mhandles \u001b[38;5;241m=\u001b[39m \u001b[43mget_handle\u001b[49m\u001b[43m(\u001b[49m\n\u001b[0;32m   1881\u001b[0m \u001b[43m    \u001b[49m\u001b[43mf\u001b[49m\u001b[43m,\u001b[49m\n\u001b[0;32m   1882\u001b[0m \u001b[43m    \u001b[49m\u001b[43mmode\u001b[49m\u001b[43m,\u001b[49m\n\u001b[0;32m   1883\u001b[0m \u001b[43m    \u001b[49m\u001b[43mencoding\u001b[49m\u001b[38;5;241;43m=\u001b[39;49m\u001b[38;5;28;43mself\u001b[39;49m\u001b[38;5;241;43m.\u001b[39;49m\u001b[43moptions\u001b[49m\u001b[38;5;241;43m.\u001b[39;49m\u001b[43mget\u001b[49m\u001b[43m(\u001b[49m\u001b[38;5;124;43m\"\u001b[39;49m\u001b[38;5;124;43mencoding\u001b[39;49m\u001b[38;5;124;43m\"\u001b[39;49m\u001b[43m,\u001b[49m\u001b[43m \u001b[49m\u001b[38;5;28;43;01mNone\u001b[39;49;00m\u001b[43m)\u001b[49m\u001b[43m,\u001b[49m\n\u001b[0;32m   1884\u001b[0m \u001b[43m    \u001b[49m\u001b[43mcompression\u001b[49m\u001b[38;5;241;43m=\u001b[39;49m\u001b[38;5;28;43mself\u001b[39;49m\u001b[38;5;241;43m.\u001b[39;49m\u001b[43moptions\u001b[49m\u001b[38;5;241;43m.\u001b[39;49m\u001b[43mget\u001b[49m\u001b[43m(\u001b[49m\u001b[38;5;124;43m\"\u001b[39;49m\u001b[38;5;124;43mcompression\u001b[39;49m\u001b[38;5;124;43m\"\u001b[39;49m\u001b[43m,\u001b[49m\u001b[43m \u001b[49m\u001b[38;5;28;43;01mNone\u001b[39;49;00m\u001b[43m)\u001b[49m\u001b[43m,\u001b[49m\n\u001b[0;32m   1885\u001b[0m \u001b[43m    \u001b[49m\u001b[43mmemory_map\u001b[49m\u001b[38;5;241;43m=\u001b[39;49m\u001b[38;5;28;43mself\u001b[39;49m\u001b[38;5;241;43m.\u001b[39;49m\u001b[43moptions\u001b[49m\u001b[38;5;241;43m.\u001b[39;49m\u001b[43mget\u001b[49m\u001b[43m(\u001b[49m\u001b[38;5;124;43m\"\u001b[39;49m\u001b[38;5;124;43mmemory_map\u001b[39;49m\u001b[38;5;124;43m\"\u001b[39;49m\u001b[43m,\u001b[49m\u001b[43m \u001b[49m\u001b[38;5;28;43;01mFalse\u001b[39;49;00m\u001b[43m)\u001b[49m\u001b[43m,\u001b[49m\n\u001b[0;32m   1886\u001b[0m \u001b[43m    \u001b[49m\u001b[43mis_text\u001b[49m\u001b[38;5;241;43m=\u001b[39;49m\u001b[43mis_text\u001b[49m\u001b[43m,\u001b[49m\n\u001b[0;32m   1887\u001b[0m \u001b[43m    \u001b[49m\u001b[43merrors\u001b[49m\u001b[38;5;241;43m=\u001b[39;49m\u001b[38;5;28;43mself\u001b[39;49m\u001b[38;5;241;43m.\u001b[39;49m\u001b[43moptions\u001b[49m\u001b[38;5;241;43m.\u001b[39;49m\u001b[43mget\u001b[49m\u001b[43m(\u001b[49m\u001b[38;5;124;43m\"\u001b[39;49m\u001b[38;5;124;43mencoding_errors\u001b[39;49m\u001b[38;5;124;43m\"\u001b[39;49m\u001b[43m,\u001b[49m\u001b[43m \u001b[49m\u001b[38;5;124;43m\"\u001b[39;49m\u001b[38;5;124;43mstrict\u001b[39;49m\u001b[38;5;124;43m\"\u001b[39;49m\u001b[43m)\u001b[49m\u001b[43m,\u001b[49m\n\u001b[0;32m   1888\u001b[0m \u001b[43m    \u001b[49m\u001b[43mstorage_options\u001b[49m\u001b[38;5;241;43m=\u001b[39;49m\u001b[38;5;28;43mself\u001b[39;49m\u001b[38;5;241;43m.\u001b[39;49m\u001b[43moptions\u001b[49m\u001b[38;5;241;43m.\u001b[39;49m\u001b[43mget\u001b[49m\u001b[43m(\u001b[49m\u001b[38;5;124;43m\"\u001b[39;49m\u001b[38;5;124;43mstorage_options\u001b[39;49m\u001b[38;5;124;43m\"\u001b[39;49m\u001b[43m,\u001b[49m\u001b[43m \u001b[49m\u001b[38;5;28;43;01mNone\u001b[39;49;00m\u001b[43m)\u001b[49m\u001b[43m,\u001b[49m\n\u001b[0;32m   1889\u001b[0m \u001b[43m\u001b[49m\u001b[43m)\u001b[49m\n\u001b[0;32m   1890\u001b[0m \u001b[38;5;28;01massert\u001b[39;00m \u001b[38;5;28mself\u001b[39m\u001b[38;5;241m.\u001b[39mhandles \u001b[38;5;129;01mis\u001b[39;00m \u001b[38;5;129;01mnot\u001b[39;00m \u001b[38;5;28;01mNone\u001b[39;00m\n\u001b[0;32m   1891\u001b[0m f \u001b[38;5;241m=\u001b[39m \u001b[38;5;28mself\u001b[39m\u001b[38;5;241m.\u001b[39mhandles\u001b[38;5;241m.\u001b[39mhandle\n",
            "File \u001b[1;32md:\\Python\\Lib\\site-packages\\pandas\\io\\common.py:728\u001b[0m, in \u001b[0;36mget_handle\u001b[1;34m(path_or_buf, mode, encoding, compression, memory_map, is_text, errors, storage_options)\u001b[0m\n\u001b[0;32m    725\u001b[0m     codecs\u001b[38;5;241m.\u001b[39mlookup_error(errors)\n\u001b[0;32m    727\u001b[0m \u001b[38;5;66;03m# open URLs\u001b[39;00m\n\u001b[1;32m--> 728\u001b[0m ioargs \u001b[38;5;241m=\u001b[39m \u001b[43m_get_filepath_or_buffer\u001b[49m\u001b[43m(\u001b[49m\n\u001b[0;32m    729\u001b[0m \u001b[43m    \u001b[49m\u001b[43mpath_or_buf\u001b[49m\u001b[43m,\u001b[49m\n\u001b[0;32m    730\u001b[0m \u001b[43m    \u001b[49m\u001b[43mencoding\u001b[49m\u001b[38;5;241;43m=\u001b[39;49m\u001b[43mencoding\u001b[49m\u001b[43m,\u001b[49m\n\u001b[0;32m    731\u001b[0m \u001b[43m    \u001b[49m\u001b[43mcompression\u001b[49m\u001b[38;5;241;43m=\u001b[39;49m\u001b[43mcompression\u001b[49m\u001b[43m,\u001b[49m\n\u001b[0;32m    732\u001b[0m \u001b[43m    \u001b[49m\u001b[43mmode\u001b[49m\u001b[38;5;241;43m=\u001b[39;49m\u001b[43mmode\u001b[49m\u001b[43m,\u001b[49m\n\u001b[0;32m    733\u001b[0m \u001b[43m    \u001b[49m\u001b[43mstorage_options\u001b[49m\u001b[38;5;241;43m=\u001b[39;49m\u001b[43mstorage_options\u001b[49m\u001b[43m,\u001b[49m\n\u001b[0;32m    734\u001b[0m \u001b[43m\u001b[49m\u001b[43m)\u001b[49m\n\u001b[0;32m    736\u001b[0m handle \u001b[38;5;241m=\u001b[39m ioargs\u001b[38;5;241m.\u001b[39mfilepath_or_buffer\n\u001b[0;32m    737\u001b[0m handles: \u001b[38;5;28mlist\u001b[39m[BaseBuffer]\n",
            "File \u001b[1;32md:\\Python\\Lib\\site-packages\\pandas\\io\\common.py:472\u001b[0m, in \u001b[0;36m_get_filepath_or_buffer\u001b[1;34m(filepath_or_buffer, encoding, compression, mode, storage_options)\u001b[0m\n\u001b[0;32m    468\u001b[0m \u001b[38;5;28;01mif\u001b[39;00m \u001b[38;5;129;01mnot\u001b[39;00m (\n\u001b[0;32m    469\u001b[0m     \u001b[38;5;28mhasattr\u001b[39m(filepath_or_buffer, \u001b[38;5;124m\"\u001b[39m\u001b[38;5;124mread\u001b[39m\u001b[38;5;124m\"\u001b[39m) \u001b[38;5;129;01mor\u001b[39;00m \u001b[38;5;28mhasattr\u001b[39m(filepath_or_buffer, \u001b[38;5;124m\"\u001b[39m\u001b[38;5;124mwrite\u001b[39m\u001b[38;5;124m\"\u001b[39m)\n\u001b[0;32m    470\u001b[0m ):\n\u001b[0;32m    471\u001b[0m     msg \u001b[38;5;241m=\u001b[39m \u001b[38;5;124mf\u001b[39m\u001b[38;5;124m\"\u001b[39m\u001b[38;5;124mInvalid file path or buffer object type: \u001b[39m\u001b[38;5;132;01m{\u001b[39;00m\u001b[38;5;28mtype\u001b[39m(filepath_or_buffer)\u001b[38;5;132;01m}\u001b[39;00m\u001b[38;5;124m\"\u001b[39m\n\u001b[1;32m--> 472\u001b[0m     \u001b[38;5;28;01mraise\u001b[39;00m \u001b[38;5;167;01mValueError\u001b[39;00m(msg)\n\u001b[0;32m    474\u001b[0m \u001b[38;5;28;01mreturn\u001b[39;00m IOArgs(\n\u001b[0;32m    475\u001b[0m     filepath_or_buffer\u001b[38;5;241m=\u001b[39mfilepath_or_buffer,\n\u001b[0;32m    476\u001b[0m     encoding\u001b[38;5;241m=\u001b[39mencoding,\n\u001b[1;32m   (...)\u001b[0m\n\u001b[0;32m    479\u001b[0m     mode\u001b[38;5;241m=\u001b[39mmode,\n\u001b[0;32m    480\u001b[0m )\n",
            "\u001b[1;31mValueError\u001b[0m: Invalid file path or buffer object type: <class 'NoneType'>"
          ]
        }
      ],
      "source": [
        "# Load and preprocess data\n",
        "df = pd.read_csv(None)\n",
        "df.dropna(inplace =True)\n",
        "df = df.sample(None,random_state=42)\n",
        "src_lang = None.astype(str).tolist()\n",
        "tgt_lang = None.astype(str).tolist()"
      ]
    },
    {
      "cell_type": "markdown",
      "metadata": {
        "id": "Fx_7ftMhQQz2"
      },
      "source": [
        "## Create Vocabulary"
      ]
    },
    {
      "cell_type": "code",
      "execution_count": null,
      "metadata": {
        "id": "St78d13oQTW_"
      },
      "outputs": [],
      "source": [
        "# Create vocabulary\n",
        "def create_vocab(sentences):\n",
        "    vocab = set()\n",
        "    for sentence in sentences:\n",
        "        vocab.update(str(sentence).split())\n",
        "    return vocab\n",
        "\n",
        "src_vocab = create_vocab(src_lang)\n",
        "tgt_vocab = create_vocab(tgt_lang)\n",
        "src_vocab_size = len(src_vocab)\n",
        "tgt_vocab_size = len(tgt_vocab)"
      ]
    },
    {
      "cell_type": "markdown",
      "metadata": {
        "id": "sbb8qKRoQbMf"
      },
      "source": [
        "## Word to Index"
      ]
    },
    {
      "cell_type": "code",
      "execution_count": null,
      "metadata": {
        "id": "BBL1S8cIQevG"
      },
      "outputs": [],
      "source": [
        "# Create word to index mappings\n",
        "src_word2idx = {word: idx for idx, word in enumerate(src_vocab)}\n",
        "tgt_word2idx = {word: idx for idx, word in enumerate(tgt_vocab)}\n",
        "src_idx2word = {idx: word for word, idx in src_word2idx.items()}\n",
        "tgt_idx2word = {idx: word for word, idx in tgt_word2idx.items()}\n",
        "\n",
        "# Convert sentences to indices\n",
        "def sentence_to_indices(sentence, word2idx):\n",
        "    return [word2idx.get(word, 0) for word in str(sentence).split()]\n",
        "\n",
        "src_indices = [sentence_to_indices(sentence, src_word2idx) for sentence in src_lang]\n",
        "tgt_indices = [sentence_to_indices(sentence, tgt_word2idx) for sentence in tgt_lang]\n",
        "\n",
        "# Pad sequences\n",
        "max_src_len = max(len(s) for s in src_indices)\n",
        "max_tgt_len = max(len(s) for s in tgt_indices)\n",
        "\n",
        "src_indices = [s + [0] * (max_src_len - len(s)) for s in src_indices]\n",
        "tgt_indices = [s + [0] * (max_tgt_len - len(s)) for s in tgt_indices]"
      ]
    },
    {
      "cell_type": "markdown",
      "metadata": {
        "id": "W9MpEic7QiFP"
      },
      "source": [
        "## Creation of Dataset and Train-Test Split"
      ]
    },
    {
      "cell_type": "code",
      "execution_count": null,
      "metadata": {
        "id": "XH0Xnf1JQtVe"
      },
      "outputs": [],
      "source": [
        "# Create dataset\n",
        "class TranslationDataset(Dataset):\n",
        "    def __init__(self, src, tgt):\n",
        "        self.src = src\n",
        "        self.tgt = tgt\n",
        "\n",
        "    def __len__(self):\n",
        "        return len(self.src)\n",
        "\n",
        "    def __getitem__(self, idx):\n",
        "        return torch.tensor(self.src[idx]), torch.tensor(self.tgt[idx])\n",
        "\n",
        "# Split data\n",
        "X_train, X_test, y_train, y_test = train_test_split(src_indices, tgt_indices, test_size=0.2, random_state=42)\n",
        "\n",
        "# Create dataloaders\n",
        "train_dataset = TranslationDataset(X_train, y_train)\n",
        "test_dataset = TranslationDataset(X_test, y_test)\n",
        "train_loader = DataLoader(train_dataset, batch_size=None, shuffle=True)\n",
        "test_loader = DataLoader(test_dataset, batch_size=None, shuffle=False)"
      ]
    },
    {
      "cell_type": "markdown",
      "metadata": {
        "id": "4ye_AuhfQ4V1"
      },
      "source": [
        "## Model Definition"
      ]
    },
    {
      "cell_type": "code",
      "execution_count": null,
      "metadata": {
        "id": "p739gyXhQ7B-"
      },
      "outputs": [],
      "source": [
        "# Define the model\n",
        "class Seq2SeqLSTM(nn.Module):\n",
        "    def __init__(self, src_vocab_size, tgt_vocab_size, hidden_size):\n",
        "        super(Seq2SeqLSTM, self).__init__()\n",
        "        self.encoder = nn.LSTM(src_vocab_size, hidden_size, batch_first=True)\n",
        "        self.decoder = nn.LSTM(tgt_vocab_size, hidden_size, batch_first=True)\n",
        "        self.fc = nn.Linear(hidden_size, tgt_vocab_size)\n",
        "\n",
        "    def forward(self, src, tgt):\n",
        "        _, (hidden, cell) = self.encoder(src)\n",
        "        output, _ = self.decoder(tgt, (hidden, cell))\n",
        "        return self.fc(output)"
      ]
    },
    {
      "cell_type": "code",
      "execution_count": null,
      "metadata": {},
      "outputs": [],
      "source": [
        "class Seq2SeqGRU(nn.Module):\n",
        "    def __init__(self, src_vocab_size, tgt_vocab_size, hidden_size):\n",
        "        super(Seq2SeqGRU, self).__init__()\n",
        "        self.encoder = nn.GRU(src_vocab_size, hidden_size, batch_first=True)\n",
        "        self.decoder = nn.GRU(tgt_vocab_size, hidden_size, batch_first=True)\n",
        "        self.fc = nn.Linear(hidden_size, tgt_vocab_size)\n",
        "\n",
        "    def forward(self, src, tgt):\n",
        "        _, hidden = self.encoder(src)\n",
        "        output, _ = self.decoder(tgt, hidden)\n",
        "        return self.fc(output)"
      ]
    },
    {
      "cell_type": "code",
      "execution_count": null,
      "metadata": {},
      "outputs": [],
      "source": [
        "class Seq2SeqTransformer(nn.Module):\n",
        "    def __init__(self, src_vocab_size, tgt_vocab_size, hidden_size, nheads, num_layers):\n",
        "        super(Seq2SeqTransformer, self).__init__()\n",
        "        self.encoder_layer = nn.TransformerEncoderLayer(\n",
        "            d_model=hidden_size, nhead=nheads\n",
        "        )\n",
        "        self.encoder = nn.TransformerEncoder(self.encoder_layer, num_layers=num_layers)\n",
        "\n",
        "        self.decoder_layer = nn.TransformerDecoderLayer(\n",
        "            d_model=hidden_size, nhead=nheads\n",
        "        )\n",
        "        self.decoder = nn.TransformerDecoder(self.decoder_layer, num_layers=num_layers)\n",
        "\n",
        "        self.src_embed = nn.Embedding(src_vocab_size, hidden_size)\n",
        "        self.tgt_embed = nn.Embedding(tgt_vocab_size, hidden_size)\n",
        "        self.fc = nn.Linear(hidden_size, tgt_vocab_size)\n",
        "\n",
        "    def forward(self, src, tgt):\n",
        "        src_embed = self.src_embed(src)\n",
        "        tgt_embed = self.tgt_embed(tgt)\n",
        "        memory = self.encoder(src_embed)\n",
        "        output = self.decoder(tgt_embed, memory)\n",
        "        return self.fc(output)"
      ]
    },
    {
      "cell_type": "markdown",
      "metadata": {
        "id": "SbBm-xT_RAi-"
      },
      "source": [
        "## Model Initialization"
      ]
    },
    {
      "cell_type": "code",
      "execution_count": null,
      "metadata": {
        "id": "Miyy966AREQv"
      },
      "outputs": [],
      "source": [
        "# Initialize model and optimizer\n",
        "model = Seq2SeqLSTM(None, None, hidden_size=256).to(device)\n",
        "optimizer = torch.optim.Adam(model.parameters())\n",
        "criterion = nn.CrossEntropyLoss(ignore_index=0)"
      ]
    },
    {
      "cell_type": "code",
      "execution_count": null,
      "metadata": {},
      "outputs": [],
      "source": [
        "gru_model = Seq2SeqGRU(src_vocab_size, tgt_vocab_size, hidden_size=256).to(device)\n",
        "gru_optimizer = torch.optim.Adam(gru_model.parameters())\n",
        "gru_criterion = nn.CrossEntropyLoss(ignore_index=0)"
      ]
    },
    {
      "cell_type": "code",
      "execution_count": null,
      "metadata": {},
      "outputs": [],
      "source": [
        "transformer_model = Seq2SeqTransformer(\n",
        "    src_vocab_size, tgt_vocab_size, hidden_size=256, nheads=8, num_layers=3\n",
        ").to(device)\n",
        "transformer_optimizer = torch.optim.Adam(transformer_model.parameters())\n",
        "transformer_criterion = nn.CrossEntropyLoss(ignore_index=0)"
      ]
    },
    {
      "cell_type": "markdown",
      "metadata": {
        "id": "IRVlQ877RHxm"
      },
      "source": [
        "## Training Initialization"
      ]
    },
    {
      "cell_type": "code",
      "execution_count": null,
      "metadata": {
        "id": "XpN84_nHRLSm"
      },
      "outputs": [],
      "source": [
        "# Training loop\n",
        "num_epochs = 5\n",
        "best_loss = float('inf')"
      ]
    },
    {
      "cell_type": "markdown",
      "metadata": {
        "id": "oNmL1n2uRRRu"
      },
      "source": [
        "## Training Loop"
      ]
    },
    {
      "cell_type": "markdown",
      "metadata": {},
      "source": [
        "## LSTM"
      ]
    },
    {
      "cell_type": "code",
      "execution_count": null,
      "metadata": {
        "id": "S-xarwM2RULP"
      },
      "outputs": [],
      "source": [
        "for epoch in range(num_epochs):\n",
        "    model.train()\n",
        "    total_loss = 0\n",
        "    start_time = time.time()\n",
        "\n",
        "    progress_bar = tqdm(enumerate(train_loader), total=len(train_loader), desc=f\"Epoch {epoch+1}/{num_epochs}\")\n",
        "\n",
        "    for batch_idx, (src, tgt) in progress_bar:\n",
        "        src, tgt = src.to(device), tgt.to(device)\n",
        "        optimizer.zero_grad()\n",
        "        src_onehot = nn.functional.one_hot(src, num_classes=src_vocab_size).float().to(device)\n",
        "        tgt_onehot = nn.functional.one_hot(tgt, num_classes=tgt_vocab_size).float().to(device)\n",
        "        output = model(src_onehot, tgt_onehot[:, :-1])\n",
        "        loss = criterion(output.reshape(-1, tgt_vocab_size), tgt[:, 1:].reshape(-1))\n",
        "        loss.backward()\n",
        "        optimizer.step()\n",
        "\n",
        "        total_loss += loss.item()\n",
        "        avg_loss = total_loss / (batch_idx + 1)\n",
        "\n",
        "        # Update progress bar\n",
        "        progress_bar.set_postfix({\n",
        "            'Loss': f'{avg_loss:.4f}',\n",
        "            'Batch': f'{batch_idx+1}/{len(train_loader)}'\n",
        "        })\n",
        "\n",
        "    epoch_loss = total_loss / len(train_loader)\n",
        "    epoch_time = time.time() - start_time\n",
        "\n",
        "    print(f\"Epoch {epoch+1}/{num_epochs} completed in {epoch_time:.2f}s\")\n",
        "    print(f\"Average Loss: {epoch_loss:.4f}\")\n",
        "\n",
        "    # Validation\n",
        "    model.eval()\n",
        "    val_loss = 0\n",
        "    with torch.no_grad():\n",
        "        for src, tgt in test_loader:\n",
        "            src, tgt = src.to(device), tgt.to(device)\n",
        "            src_onehot = nn.functional.one_hot(src, num_classes=src_vocab_size).float().to(device)\n",
        "            tgt_onehot = nn.functional.one_hot(tgt, num_classes=tgt_vocab_size).float().to(device)\n",
        "            output = model(src_onehot, tgt_onehot[:, :-1])\n",
        "            loss = criterion(output.reshape(-1, tgt_vocab_size), tgt[:, 1:].reshape(-1))\n",
        "            val_loss += loss.item()\n",
        "\n",
        "    val_loss /= len(test_loader)\n",
        "    print(f\"Validation Loss: {val_loss:.4f}\")\n",
        "\n",
        "    # Save the best model\n",
        "    if val_loss < best_loss:\n",
        "        best_loss = val_loss\n",
        "        torch.save(model.state_dict(), 'best_translation_model.pth')\n",
        "        print(\"New best model saved!\")\n",
        "\n",
        "    print(\"-\" * 50)"
      ]
    },
    {
      "cell_type": "markdown",
      "metadata": {},
      "source": [
        "## GRU"
      ]
    },
    {
      "cell_type": "code",
      "execution_count": null,
      "metadata": {},
      "outputs": [],
      "source": [
        "def train_model_gru(model, optimizer, criterion, train_loader, num_epochs=2):\n",
        "    best_loss = float(\"inf\")\n",
        "    for epoch in range(num_epochs):\n",
        "        model.train()\n",
        "        total_loss = 0\n",
        "        start_time = time.time()\n",
        "\n",
        "        progress_bar = tqdm(\n",
        "            enumerate(train_loader),\n",
        "            total=len(train_loader),\n",
        "            desc=f\"GRU Epoch {epoch+1}/{num_epochs}\",\n",
        "        )\n",
        "\n",
        "        for batch_idx, (src, tgt) in progress_bar:\n",
        "            src, tgt = src.to(device), tgt.to(device)\n",
        "            optimizer.zero_grad()\n",
        "            src_onehot = (\n",
        "                nn.functional.one_hot(src, num_classes=src_vocab_size)\n",
        "                .float()\n",
        "                .to(device)\n",
        "            )\n",
        "            tgt_onehot = (\n",
        "                nn.functional.one_hot(tgt, num_classes=tgt_vocab_size)\n",
        "                .float()\n",
        "                .to(device)\n",
        "            )\n",
        "            output = model(src_onehot, tgt_onehot[:, :-1])\n",
        "            loss = criterion(output.reshape(-1, tgt_vocab_size), tgt[:, 1:].reshape(-1))\n",
        "            loss.backward()\n",
        "            optimizer.step()\n",
        "\n",
        "            total_loss += loss.item()\n",
        "            avg_loss = total_loss / (batch_idx + 1)\n",
        "            progress_bar.set_postfix({\"Loss\": f\"{avg_loss:.4f}\"})\n",
        "\n",
        "        epoch_loss = total_loss / len(train_loader)\n",
        "        print(f\"GRU Epoch {epoch+1}/{num_epochs} completed. Avg Loss: {epoch_loss:.4f}\")"
      ]
    },
    {
      "cell_type": "code",
      "execution_count": null,
      "metadata": {},
      "outputs": [],
      "source": [
        "train_model_gru(gru_model, gru_optimizer, gru_criterion, train_loader)"
      ]
    },
    {
      "cell_type": "markdown",
      "metadata": {},
      "source": [
        "## Transformer"
      ]
    },
    {
      "cell_type": "code",
      "execution_count": null,
      "metadata": {},
      "outputs": [],
      "source": [
        "def train_model_transformer(model, optimizer, criterion, train_loader, num_epochs=2):\n",
        "    best_loss = float(\"inf\")\n",
        "    for epoch in range(num_epochs):\n",
        "        model.train()\n",
        "        total_loss = 0\n",
        "        start_time = time.time()\n",
        "\n",
        "        progress_bar = tqdm(\n",
        "            enumerate(train_loader),\n",
        "            total=len(train_loader),\n",
        "            desc=f\"Transformer Epoch {epoch+1}/{num_epochs}\",\n",
        "        )\n",
        "\n",
        "        for batch_idx, (src, tgt) in progress_bar:\n",
        "            src, tgt = src.to(device), tgt.to(device)\n",
        "            optimizer.zero_grad()\n",
        "            output = model(src, tgt[:, :-1])\n",
        "            loss = criterion(output.reshape(-1, tgt_vocab_size), tgt[:, 1:].reshape(-1))\n",
        "            loss.backward()\n",
        "            optimizer.step()\n",
        "\n",
        "            total_loss += loss.item()\n",
        "            avg_loss = total_loss / (batch_idx + 1)\n",
        "            progress_bar.set_postfix({\"Loss\": f\"{avg_loss:.4f}\"})\n",
        "\n",
        "        epoch_loss = total_loss / len(train_loader)\n",
        "        print(\n",
        "            f\"Transformer Epoch {epoch+1}/{num_epochs} completed. Avg Loss: {epoch_loss:.4f}\"\n",
        "        )"
      ]
    },
    {
      "cell_type": "code",
      "execution_count": null,
      "metadata": {},
      "outputs": [],
      "source": [
        "train_model_transformer(\n",
        "    transformer_model, transformer_optimizer, transformer_criterion, train_loader\n",
        ")"
      ]
    },
    {
      "cell_type": "markdown",
      "metadata": {
        "id": "fGMAItCkRedW"
      },
      "source": [
        "## Inference"
      ]
    },
    {
      "cell_type": "code",
      "execution_count": null,
      "metadata": {
        "id": "R1UyitX9R2_P"
      },
      "outputs": [],
      "source": [
        "def translate(model, test_loader, src_idx2word, tgt_idx2word, src_vocab_size, tgt_vocab_size, device, max_tgt_len):\n",
        "    model.eval()\n",
        "    all_translations = []\n",
        "    all_references = []\n",
        "\n",
        "    progress_bar = tqdm(test_loader, desc=\"Translating\")\n",
        "\n",
        "    for src, tgt in progress_bar:\n",
        "        src, tgt = src.to(device), tgt.to(device)\n",
        "\n",
        "        for i in range(len(src)):\n",
        "            # Convert indices to words, then back to indices to ensure we have integers\n",
        "            src_words = [src_idx2word.get(idx.item(), \"\") for idx in src[i] if idx.item() != 0]\n",
        "            tgt_words = [tgt_idx2word.get(idx.item(), \"\") for idx in tgt[i] if idx.item() != 0]\n",
        "\n",
        "            src_sentence = ' '.join(src_words)\n",
        "            tgt_sentence = ' '.join(tgt_words)\n",
        "\n",
        "            # Convert words back to indices, using 0 for unknown words\n",
        "            src_indices = [src_word2idx.get(word, 0) for word in src_words]\n",
        "            src_indices = src_indices + [0] * (src.size(1) - len(src_indices))\n",
        "\n",
        "            src_tensor = torch.tensor(src_indices, dtype=torch.long, device=device).unsqueeze(0)\n",
        "            src_onehot = torch.nn.functional.one_hot(src_tensor, num_classes=src_vocab_size).float()\n",
        "\n",
        "            with torch.no_grad():\n",
        "                _, (hidden, cell) = model.encoder(src_onehot)\n",
        "                tgt_tensor = torch.zeros(1, 1, tgt_vocab_size, device=device)\n",
        "                output_sentence = []\n",
        "\n",
        "                for _ in range(max_tgt_len):\n",
        "                    output, (hidden, cell) = model.decoder(tgt_tensor, (hidden, cell))\n",
        "                    output = model.fc(output)\n",
        "                    predicted = output.argmax(2).item()\n",
        "                    if predicted == 0:\n",
        "                        break\n",
        "                    output_sentence.append(tgt_idx2word.get(predicted, \"\"))\n",
        "                    tgt_tensor = torch.nn.functional.one_hot(torch.tensor([[predicted]], device=device), num_classes=tgt_vocab_size).float()\n",
        "\n",
        "            translated = ' '.join(filter(None, output_sentence))\n",
        "            all_translations.append(translated)\n",
        "            all_references.append(tgt_sentence)\n",
        "\n",
        "    return all_translations, all_references"
      ]
    },
    {
      "cell_type": "markdown",
      "metadata": {
        "id": "rKc23OAhSB6F"
      },
      "source": [
        "## Loading Saved Model"
      ]
    },
    {
      "cell_type": "code",
      "execution_count": null,
      "metadata": {
        "id": "JZxfvmEiSEDl"
      },
      "outputs": [],
      "source": [
        "# Load the best model for inference and BLEU score calculation\n",
        "model.load_state_dict(torch.load('best_translation_model.pth'))\n",
        "model.eval()"
      ]
    },
    {
      "cell_type": "markdown",
      "metadata": {
        "id": "wp9T6IT7SI_d"
      },
      "source": [
        "## Translation by LSTM"
      ]
    },
    {
      "cell_type": "code",
      "execution_count": null,
      "metadata": {
        "id": "p2CRj5cLSLSW"
      },
      "outputs": [],
      "source": [
        "# Translate and calculate BLEU score\n",
        "translations, references = translate(model, test_loader, src_idx2word, tgt_idx2word, src_vocab_size, tgt_vocab_size, device, max_tgt_len)"
      ]
    },
    {
      "cell_type": "markdown",
      "metadata": {
        "id": "XSf51UUQSQmd"
      },
      "source": [
        "## BLEU Score  and Output"
      ]
    },
    {
      "cell_type": "code",
      "execution_count": null,
      "metadata": {
        "colab": {
          "base_uri": "https://localhost:8080/"
        },
        "id": "OIRHjLELJSCq",
        "outputId": "acc8f6a4-c002-4257-9178-1067f44121fe"
      },
      "outputs": [
        {
          "name": "stderr",
          "output_type": "stream",
          "text": [
            "[nltk_data] Downloading package punkt to /root/nltk_data...\n",
            "[nltk_data]   Unzipping tokenizers/punkt.zip.\n"
          ]
        },
        {
          "name": "stdout",
          "output_type": "stream",
          "text": [
            "BLEU Score: 0.0003\n",
            "\n",
            "Example Translations:\n",
            "Source: दक्षिणी ' विमान ' मंदिरों के मूल ततऋ-ऊण्श्छ्ष्-वों की ऐसी सामानऋ-ऊण्श्छ्ष्-य जानकारी को समझना आवशऋ-ऊण्श्छ्ष्-यक होगा कऋ-ऊण्श्छ्ष्-योंकि इस कडऋई में आने वाली मंदिरों का , उनके सर्वाधिक विशिषऋ-ऊण्श्छ्ष्-ट लक्षणों के अतिरिकऋ-ऊण्श्छ्ष्-त उनके विवरण दे पाना वऋ-ऊण्श्छ्ष्-यावहारिक नहीं होगा.पूर्वकालीन समसऋ-ऊण्श्छ्ष्-त और पाशऋ-ऊण्श्छ्ष्-चातकालीन अधिकांश ' शिलऋ-ऊण्श्छ्ष्-प ' और ' आगम ' ग्रंढथों एवं अनेक समसामयिक अभिलेखों के अनुसार ' विमान ' शबऋ-ऊण्श्छ्ष्-द ' उपान ' या ' अधिषऋ-ऊण्श्छ्ष्-ठान ' के निमऋ-ऊण्श्छ्ष्-नतम गढऋन , या मंच से ' सऋ-ऊण्श्छ्ष्-तूपी ' या उचऋ-ऊण्श्छ्ष्-चतम कलश तक संपूर्ण भवन का द्योतक है .\n",
            "Translation: के लिए एक बार एक दूसरे के लिए एक ही है . ' ' ' ' ' ' ' ' ' ' ' ' ' ' ' ' ' ' ' ' ' ' ' ' ' ' ' ' ' ' ' ' ' ' ' ' ' ' ' ' ' ' ' ' ' ' ' ' ' ' ' ' ' ' ' ' ' ' ' ' ' ' ' ' ' ' ' ' ' ' ' ' ' ' ' ' ' ' ' ' ' ' ' ' ' ' ' ' ' ' ' ' ' ' ' ' ' ' ' ' ' ' ' ' ' ' ' ' ' ' ' ' ' ' ' ' ' ' ' ' ' ' ' ' ' ' ' ' ' ' ' ' ' ' ' ' ' ' ' ' ' ' ' ' ' ' ' ' ' ' ' ' ' ' ' ' ' ' ' ' ' ' ' ' ' ' ' ' ' ' ' ' ' ' ' ' ' ' ' ' ' ' ' ' ' ' ' ' ' ' ' ' ' ' ' ' ' ' ' ' ' ' ' ' ' ' ' ' ' ' ' ' ' ' ' ' ' ' ' ' ' ' ' ' ' ' ' ' ' ' ' '\n",
            "Reference: दक्षिणी ' विमान ' मंदिरों के मूल ततऋ-ऊण्श्छ्ष्-वों की ऐसी सामानऋ-ऊण्श्छ्ष्-य जानकारी को समझना आवशऋ-ऊण्श्छ्ष्-यक होगा कऋ-ऊण्श्छ्ष्-योंकि इस कडऋई में आने वाली मंदिरों का , उनके सर्वाधिक विशिषऋ-ऊण्श्छ्ष्-ट लक्षणों के अतिरिकऋ-ऊण्श्छ्ष्-त उनके विवरण दे पाना वऋ-ऊण्श्छ्ष्-यावहारिक नहीं होगा.पूर्वकालीन समसऋ-ऊण्श्छ्ष्-त और पाशऋ-ऊण्श्छ्ष्-चातकालीन अधिकांश ' शिलऋ-ऊण्श्छ्ष्-प ' और ' आगम ' ग्रंढथों एवं अनेक समसामयिक अभिलेखों के अनुसार ' विमान ' शबऋ-ऊण्श्छ्ष्-द ' उपान ' या ' अधिषऋ-ऊण्श्छ्ष्-ठान ' के निमऋ-ऊण्श्छ्ष्-नतम गढऋन , या मंच से ' सऋ-ऊण्श्छ्ष्-तूपी ' या उचऋ-ऊण्श्छ्ष्-चतम कलश तक संपूर्ण भवन का द्योतक है .\n",
            "\n",
            "Source: इसी वजह से ह्र्रियत , जिसके कुछ सदस्यों की राष्ट्रीय निष् आ संदिग्ध है , जरूरत से ज्यादा दिखती है .\n",
            "Translation: के लिए एक बार एक दूसरे के लिए एक ही है . ' ' ' ' ' ' ' ' ' ' ' ' ' ' ' ' ' ' ' ' ' ' ' ' ' ' ' ' ' ' ' ' ' ' ' ' ' ' ' ' ' ' ' ' ' ' ' ' ' ' ' ' ' ' ' ' ' ' ' ' ' ' ' ' ' ' ' ' ' ' ' ' ' ' ' ' ' ' ' ' ' ' ' ' ' ' ' ' ' ' ' ' ' ' ' ' ' ' ' ' ' ' ' ' ' ' ' ' ' ' ' ' ' ' ' ' ' ' ' ' ' ' ' ' ' ' ' ' ' ' ' ' ' ' ' ' ' ' ' ' ' ' ' ' ' ' ' ' ' ' ' ' ' ' ' ' ' ' ' ' ' ' ' ' ' ' ' ' ' ' ' ' ' ' ' ' ' ' ' ' ' ' ' ' ' ' ' ' ' ' ' ' ' ' ' ' ' ' ' ' ' ' ' ' ' ' ' ' ' ' ' ' ' ' ' ' ' ' ' ' ' ' ' ' ' ' ' ' ' ' ' '\n",
            "Reference: इसी वजह से ह्र्रियत , जिसके कुछ सदस्यों की राष्ट्रीय निष् आ संदिग्ध है , जरूरत से ज्यादा दिखती है .\n",
            "\n",
            "Source: पहली बार जब वे उसके लिए कच्चे आम ले गए थे तो उसने कहा था , ? तुम्हें यह लाने को किसने कहा था ? ?\n",
            "Translation: के लिए एक बार एक दूसरे के लिए एक ही है . ' ' ' ' ' ' ' ' ' ' ' ' ' ' ' ' ' ' ' ' ' ' ' ' ' ' ' ' ' ' ' ' ' ' ' ' ' ' ' ' ' ' ' ' ' ' ' ' ' ' ' ' ' ' ' ' ' ' ' ' ' ' ' ' ' ' ' ' ' ' ' ' ' ' ' ' ' ' ' ' ' ' ' ' ' ' ' ' ' ' ' ' ' ' ' ' ' ' ' ' ' ' ' ' ' ' ' ' ' ' ' ' ' ' ' ' ' ' ' ' ' ' ' ' ' ' ' ' ' ' ' ' ' ' ' ' ' ' ' ' ' ' ' ' ' ' ' ' ' ' ' ' ' ' ' ' ' ' ' ' ' ' ' ' ' ' ' ' ' ' ' ' ' ' ' ' ' ' ' ' ' ' ' ' ' ' ' ' ' ' ' ' ' ' ' ' ' ' ' ' ' ' ' ' ' ' ' ' ' ' ' ' ' ' ' ' ' ' ' ' ' ' ' ' ' ' ' ' ' ' ' '\n",
            "Reference: पहली बार जब वे उसके लिए कच्चे आम ले गए थे तो उसने कहा था , ? तुम्हें यह लाने को किसने कहा था ? ?\n",
            "\n",
            "Source: अगर इस प्रस्ताव को अपनी स्वाभाविक नियति तक पहुंचाया गया तो यह भारत में सुस्त पड़ै निजीकरण कार्यक्रम को मजबूती देगा .\n",
            "Translation: के लिए एक बार एक दूसरे के लिए एक ही है . ' ' ' ' ' ' ' ' ' ' ' ' ' ' ' ' ' ' ' ' ' ' ' ' ' ' ' ' ' ' ' ' ' ' ' ' ' ' ' ' ' ' ' ' ' ' ' ' ' ' ' ' ' ' ' ' ' ' ' ' ' ' ' ' ' ' ' ' ' ' ' ' ' ' ' ' ' ' ' ' ' ' ' ' ' ' ' ' ' ' ' ' ' ' ' ' ' ' ' ' ' ' ' ' ' ' ' ' ' ' ' ' ' ' ' ' ' ' ' ' ' ' ' ' ' ' ' ' ' ' ' ' ' ' ' ' ' ' ' ' ' ' ' ' ' ' ' ' ' ' ' ' ' ' ' ' ' ' ' ' ' ' ' ' ' ' ' ' ' ' ' ' ' ' ' ' ' ' ' ' ' ' ' ' ' ' ' ' ' ' ' ' ' ' ' ' ' ' ' ' ' ' ' ' ' ' ' ' ' ' ' ' ' ' ' ' ' ' ' ' ' ' ' ' ' ' ' ' ' ' ' '\n",
            "Reference: अगर इस प्रस्ताव को अपनी स्वाभाविक नियति तक पहुंचाया गया तो यह भारत में सुस्त पड़ै निजीकरण कार्यक्रम को मजबूती देगा .\n",
            "\n",
            "Source: उदाहरण के लिए , दुर्लभ पुस्तकों तथा कला वस्तुओं को देश के बाहर जाने से रोकने के लिए ऐतिहासिक भवनों या स्थापत्य कला की रूचिकर अन्य वस्तुओं को हानि पहुंचाने वालो को दंडित करने तथा अश्लील पृथकतावादी या क्रांतिकारी पुस्तकों , चित्र फिल्म आदि को प्रतिबंधित करने के लिए कानून बनाना चाहिए .\n",
            "Translation: के लिए एक बार एक दूसरे के लिए एक ही है . ' ' ' ' ' ' ' ' ' ' ' ' ' ' ' ' ' ' ' ' ' ' ' ' ' ' ' ' ' ' ' ' ' ' ' ' ' ' ' ' ' ' ' ' ' ' ' ' ' ' ' ' ' ' ' ' ' ' ' ' ' ' ' ' ' ' ' ' ' ' ' ' ' ' ' ' ' ' ' ' ' ' ' ' ' ' ' ' ' ' ' ' ' ' ' ' ' ' ' ' ' ' ' ' ' ' ' ' ' ' ' ' ' ' ' ' ' ' ' ' ' ' ' ' ' ' ' ' ' ' ' ' ' ' ' ' ' ' ' ' ' ' ' ' ' ' ' ' ' ' ' ' ' ' ' ' ' ' ' ' ' ' ' ' ' ' ' ' ' ' ' ' ' ' ' ' ' ' ' ' ' ' ' ' ' ' ' ' ' ' ' ' ' ' ' ' ' ' ' ' ' ' ' ' ' ' ' ' ' ' ' ' ' ' ' ' ' ' ' ' ' ' ' ' ' ' ' ' ' ' ' '\n",
            "Reference: उदाहरण के लिए , दुर्लभ पुस्तकों तथा कला वस्तुओं को देश के बाहर जाने से रोकने के लिए ऐतिहासिक भवनों या स्थापत्य कला की रूचिकर अन्य वस्तुओं को हानि पहुंचाने वालो को दंडित करने तथा अश्लील पृथकतावादी या क्रांतिकारी पुस्तकों , चित्र फिल्म आदि को प्रतिबंधित करने के लिए कानून बनाना चाहिए .\n",
            "\n"
          ]
        }
      ],
      "source": [
        "# Tokenize translations and references\n",
        "processed_translations = [nltk.word_tokenize(t.lower()) for t in translations]\n",
        "processed_references = [[nltk.word_tokenize(r.lower())] for r in references]\n",
        "\n",
        "# Calculate BLEU score\n",
        "bleu_score = corpus_bleu(processed_references, processed_translations)\n",
        "print(f\"BLEU Score: {bleu_score:.4f}\")\n",
        "\n",
        "# Print some example translations\n",
        "num_examples = 5\n",
        "print(\"\\nExample Translations:\")\n",
        "for i in range(min(num_examples, len(translations))):\n",
        "    print(f\"Source: {references[i]}\")\n",
        "    print(f\"Translation: {translations[i]}\")\n",
        "    print(f\"Reference: {references[i]}\")\n",
        "    print()"
      ]
    },
    {
      "cell_type": "code",
      "execution_count": null,
      "metadata": {
        "id": "Tn0ZRu93OBLj"
      },
      "outputs": [],
      "source": [
        "gru_translations, gru_references = translate(\n",
        "    gru_model,\n",
        "    test_loader,\n",
        "    src_idx2word,\n",
        "    tgt_idx2word,\n",
        "    src_vocab_size,\n",
        "    tgt_vocab_size,\n",
        "    device,\n",
        "    max_tgt_len,\n",
        ")\n",
        "gru_bleu_score = corpus_bleu(\n",
        "    [[nltk.word_tokenize(ref.lower())] for ref in gru_references],\n",
        "    [nltk.word_tokenize(trans.lower()) for trans in gru_translations],\n",
        ")\n",
        "print(f\"GRU BLEU Score: {gru_bleu_score:.4f}\")"
      ]
    },
    {
      "cell_type": "markdown",
      "metadata": {},
      "source": [
        "## Print some example translations by GRU model"
      ]
    },
    {
      "cell_type": "code",
      "execution_count": null,
      "metadata": {},
      "outputs": [],
      "source": [
        "num_examples = 5\n",
        "print(\"\\nExample Translations:\")\n",
        "for i in range(min(num_examples, len(gru_translations))):\n",
        "    print(f\"Source: {gru_references[i]}\")\n",
        "    print(f\"Translation: {gru_translations[i]}\")\n",
        "    print(f\"Reference: {gru_references[i]}\")\n",
        "    print()"
      ]
    },
    {
      "cell_type": "code",
      "execution_count": null,
      "metadata": {},
      "outputs": [],
      "source": [
        "transformer_translations, transformer_references = translate(\n",
        "    transformer_model,\n",
        "    test_loader,\n",
        "    src_idx2word,\n",
        "    tgt_idx2word,\n",
        "    src_vocab_size,\n",
        "    tgt_vocab_size,\n",
        "    device,\n",
        "    max_tgt_len,\n",
        ")\n",
        "transformer_bleu_score = corpus_bleu(\n",
        "    [[nltk.word_tokenize(ref.lower())] for ref in transformer_references],\n",
        "    [nltk.word_tokenize(trans.lower()) for trans in transformer_translations],\n",
        ")\n",
        "print(f\"Transformer BLEU Score: {transformer_bleu_score:.4f}\")"
      ]
    },
    {
      "cell_type": "markdown",
      "metadata": {},
      "source": [
        "## Print some example translations by Transformer model"
      ]
    },
    {
      "cell_type": "code",
      "execution_count": null,
      "metadata": {},
      "outputs": [],
      "source": [
        "num_examples = 5\n",
        "print(\"\\nExample Translations:\")\n",
        "for i in range(min(num_examples, len(transformer_translations))):\n",
        "    print(f\"Source: {transformer_references[i]}\")\n",
        "    print(f\"Translation: {transformer_translations[i]}\")\n",
        "    print(f\"Reference: {transformer_references[i]}\")\n",
        "    print()"
      ]
    }
  ],
  "metadata": {
    "accelerator": "GPU",
    "colab": {
      "collapsed_sections": [
        "sbb8qKRoQbMf"
      ],
      "gpuType": "T4",
      "provenance": []
    },
    "kernelspec": {
      "display_name": "Python 3",
      "name": "python3"
    },
    "language_info": {
      "codemirror_mode": {
        "name": "ipython",
        "version": 3
      },
      "file_extension": ".py",
      "mimetype": "text/x-python",
      "name": "python",
      "nbconvert_exporter": "python",
      "pygments_lexer": "ipython3",
      "version": "3.12.2"
    }
  },
  "nbformat": 4,
  "nbformat_minor": 0
}
